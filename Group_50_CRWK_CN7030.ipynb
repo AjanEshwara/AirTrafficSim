{
  "nbformat": 4,
  "nbformat_minor": 0,
  "metadata": {
    "colab": {
      "provenance": [],
      "include_colab_link": true
    },
    "kernelspec": {
      "name": "python3",
      "display_name": "Python 3"
    }
  },
  "cells": [
    {
      "cell_type": "markdown",
      "metadata": {
        "id": "view-in-github",
        "colab_type": "text"
      },
      "source": [
        "<a href=\"https://colab.research.google.com/github/AjanEshwara/AirTrafficSim/blob/main/Group_50_CRWK_CN7030.ipynb\" target=\"_parent\"><img src=\"https://colab.research.google.com/assets/colab-badge.svg\" alt=\"Open In Colab\"/></a>"
      ]
    },
    {
      "cell_type": "markdown",
      "metadata": {
        "id": "Lx9-Fre4FMda"
      },
      "source": [
        "# **Machine Learning on Big Data (CN7030) CRWK 24-25 Term B [60% weighting]**\n",
        "# **Group ID: 50**\n",
        "1.   Student 1: Walgama Eshwarage Don Ajan Sajuka Eshwara - U2782761\n",
        "2.   Student 2: Safiat Alli-adeniji - U2803147\n",
        "---\n",
        "\n",
        "If you want to add comments on your group work, please write it here for us:"
      ]
    },
    {
      "cell_type": "markdown",
      "metadata": {
        "id": "GdMZR-9QTwG3"
      },
      "source": [
        "\n",
        "# **Initiate and Configure Spark**"
      ]
    },
    {
      "cell_type": "code",
      "metadata": {
        "id": "_z0p88Xtw_3-",
        "colab": {
          "base_uri": "https://localhost:8080/"
        },
        "outputId": "b2edce0f-0c3d-4947-92d6-8e4c0e742b79"
      },
      "source": [
        "# add your code here\n",
        "\n",
        "!pip3 install pyspark\n"
      ],
      "execution_count": 1,
      "outputs": [
        {
          "output_type": "stream",
          "name": "stdout",
          "text": [
            "Requirement already satisfied: pyspark in /usr/local/lib/python3.11/dist-packages (3.5.5)\n",
            "Requirement already satisfied: py4j==0.10.9.7 in /usr/local/lib/python3.11/dist-packages (from pyspark) (0.10.9.7)\n"
          ]
        }
      ]
    },
    {
      "cell_type": "code",
      "source": [
        "#Linking with pyspark\n",
        "import pyspark\n",
        "from pyspark.sql import SparkSession\n",
        "\n",
        "spark = SparkSession.builder \\\n",
        "    .master(\"local[*]\") \\\n",
        "    .appName(\"Group_50_CRWK\") \\\n",
        "    .config(\"spark.executor.memory\",\"4g\")\\\n",
        "    .config(\"spark.driver.memory\", \"2g\")\\\n",
        "    .config(\"spark.executor.cores\", \"2\") \\\n",
        "    .config(\"spark.sql.inMemoryColumnarStorage.compressed\", \"true\") \\\n",
        "    .getOrCreate()\n",
        "spark"
      ],
      "metadata": {
        "colab": {
          "base_uri": "https://localhost:8080/",
          "height": 219
        },
        "id": "bGV0uFJYjZ24",
        "outputId": "d4ad538b-1f20-4e89-b4a2-ee4c90304f50"
      },
      "execution_count": 2,
      "outputs": [
        {
          "output_type": "execute_result",
          "data": {
            "text/plain": [
              "<pyspark.sql.session.SparkSession at 0x7c9d2813e4d0>"
            ],
            "text/html": [
              "\n",
              "            <div>\n",
              "                <p><b>SparkSession - in-memory</b></p>\n",
              "                \n",
              "        <div>\n",
              "            <p><b>SparkContext</b></p>\n",
              "\n",
              "            <p><a href=\"http://0264e4f4a789:4040\">Spark UI</a></p>\n",
              "\n",
              "            <dl>\n",
              "              <dt>Version</dt>\n",
              "                <dd><code>v3.5.5</code></dd>\n",
              "              <dt>Master</dt>\n",
              "                <dd><code>local[*]</code></dd>\n",
              "              <dt>AppName</dt>\n",
              "                <dd><code>Group_50_CRWK</code></dd>\n",
              "            </dl>\n",
              "        </div>\n",
              "        \n",
              "            </div>\n",
              "        "
            ]
          },
          "metadata": {},
          "execution_count": 2
        }
      ]
    },
    {
      "cell_type": "code",
      "source": [
        "#connect with google drive\n",
        "from google.colab import drive\n",
        "drive.mount('/content/drive')"
      ],
      "metadata": {
        "colab": {
          "base_uri": "https://localhost:8080/"
        },
        "id": "qQftdjoql8XI",
        "outputId": "6dcf1abf-a8cc-4e6a-8d89-62ed05b138dc"
      },
      "execution_count": 3,
      "outputs": [
        {
          "output_type": "stream",
          "name": "stdout",
          "text": [
            "Mounted at /content/drive\n"
          ]
        }
      ]
    },
    {
      "cell_type": "markdown",
      "metadata": {
        "id": "wHft1Jht1Qxl"
      },
      "source": [
        "---\n",
        "# **Task 1 - Data Loading and Preprocessing (15 marks)**\n",
        "---"
      ]
    },
    {
      "cell_type": "code",
      "metadata": {
        "id": "OcZfiIcq1Qxn",
        "colab": {
          "base_uri": "https://localhost:8080/"
        },
        "outputId": "f7dc43c5-2055-4636-d42a-841221bde265"
      },
      "source": [
        "from os import truncate\n",
        "##1st student name:\n",
        "# Create CSV data frame\n",
        "df = spark.read.format('csv').load('/content/drive/MyDrive/full_data_flightdelay.csv', inferSchema = True, header = True)\n",
        "\n",
        "#Show table\n",
        "df.show(truncate=False)\n",
        "\n",
        "#Show schema\n",
        "df.printSchema()\n",
        "\n",
        "#Data count and Number of columns\n",
        "print(df.count())\n",
        "print(len(df.columns))"
      ],
      "execution_count": 4,
      "outputs": [
        {
          "output_type": "stream",
          "name": "stdout",
          "text": [
            "+-----+-----------+---------+------------+--------------+--------------+------------------+---------------+----------------------+---------------------+---------------------+-----------------------------+------------------------+------------------------+-----------------------+---------------------+---------+----------------------+--------+---------+----------------+----+----+----+----+----+\n",
            "|MONTH|DAY_OF_WEEK|DEP_DEL15|DEP_TIME_BLK|DISTANCE_GROUP|SEGMENT_NUMBER|CONCURRENT_FLIGHTS|NUMBER_OF_SEATS|CARRIER_NAME          |AIRPORT_FLIGHTS_MONTH|AIRLINE_FLIGHTS_MONTH|AIRLINE_AIRPORT_FLIGHTS_MONTH|AVG_MONTHLY_PASS_AIRPORT|AVG_MONTHLY_PASS_AIRLINE|FLT_ATTENDANTS_PER_PASS|GROUND_SERV_PER_PASS |PLANE_AGE|DEPARTING_AIRPORT     |LATITUDE|LONGITUDE|PREVIOUS_AIRPORT|PRCP|SNOW|SNWD|TMAX|AWND|\n",
            "+-----+-----------+---------+------------+--------------+--------------+------------------+---------------+----------------------+---------------------+---------------------+-----------------------------+------------------------+------------------------+-----------------------+---------------------+---------+----------------------+--------+---------+----------------+----+----+----+----+----+\n",
            "|1    |7          |0        |0800-0859   |2             |1             |25                |143            |Southwest Airlines Co.|13056                |107363               |5873                         |1903352                 |13382999                |6.178236301460919E-5   |9.889412309998219E-5 |8        |McCarran International|36.08   |-115.152 |NONE            |0.0 |0.0 |0.0 |65.0|2.91|\n",
            "|1    |7          |0        |0700-0759   |7             |1             |29                |191            |Delta Air Lines Inc.  |13056                |73508                |1174                         |1903352                 |12460183                |1.441658849878598E-4   |1.486602009422039E-4 |3        |McCarran International|36.08   |-115.152 |NONE            |0.0 |0.0 |0.0 |65.0|2.91|\n",
            "|1    |7          |0        |0600-0659   |7             |1             |27                |199            |Delta Air Lines Inc.  |13056                |73508                |1174                         |1903352                 |12460183                |1.441658849878598E-4   |1.486602009422039E-4 |18       |McCarran International|36.08   |-115.152 |NONE            |0.0 |0.0 |0.0 |65.0|2.91|\n",
            "|1    |7          |0        |0600-0659   |9             |1             |27                |180            |Delta Air Lines Inc.  |13056                |73508                |1174                         |1903352                 |12460183                |1.441658849878598E-4   |1.486602009422039E-4 |2        |McCarran International|36.08   |-115.152 |NONE            |0.0 |0.0 |0.0 |65.0|2.91|\n",
            "|1    |7          |0        |0001-0559   |7             |1             |10                |182            |Spirit Air Lines      |13056                |15023                |1257                         |1903352                 |2688839                 |9.173723925704242E-6   |1.2465107307156237E-4|1        |McCarran International|36.08   |-115.152 |NONE            |0.0 |0.0 |0.0 |65.0|2.91|\n",
            "|1    |7          |0        |0001-0559   |3             |1             |10                |180            |Frontier Airlines Inc.|13056                |9496                 |581                          |1903352                 |1857122                 |1.1572564827677376E-4  |7.134694872433899E-6 |5        |McCarran International|36.08   |-115.152 |NONE            |0.0 |0.0 |0.0 |65.0|2.91|\n",
            "|1    |7          |0        |0700-0759   |6             |1             |29                |186            |Frontier Airlines Inc.|13056                |9496                 |581                          |1903352                 |1857122                 |1.1572564827677376E-4  |7.134694872433899E-6 |2        |McCarran International|36.08   |-115.152 |NONE            |0.0 |0.0 |0.0 |65.0|2.91|\n",
            "|1    |7          |1        |0001-0559   |7             |1             |10                |186            |Frontier Airlines Inc.|13056                |9496                 |581                          |1903352                 |1857122                 |1.1572564827677376E-4  |7.134694872433899E-6 |3        |McCarran International|36.08   |-115.152 |NONE            |0.0 |0.0 |0.0 |65.0|2.91|\n",
            "|1    |7          |0        |0001-0559   |7             |1             |10                |180            |Frontier Airlines Inc.|13056                |9496                 |581                          |1903352                 |1857122                 |1.1572564827677376E-4  |7.134694872433899E-6 |3        |McCarran International|36.08   |-115.152 |NONE            |0.0 |0.0 |0.0 |65.0|2.91|\n",
            "|1    |7          |0        |0600-0659   |8             |1             |27                |186            |Frontier Airlines Inc.|13056                |9496                 |581                          |1903352                 |1857122                 |1.1572564827677376E-4  |7.134694872433899E-6 |1        |McCarran International|36.08   |-115.152 |NONE            |0.0 |0.0 |0.0 |65.0|2.91|\n",
            "|1    |7          |1        |2300-2359   |6             |1             |17                |180            |Frontier Airlines Inc.|13056                |9496                 |581                          |1903352                 |1857122                 |1.1572564827677376E-4  |7.134694872433899E-6 |3        |McCarran International|36.08   |-115.152 |NONE            |0.0 |0.0 |0.0 |65.0|2.91|\n",
            "|1    |7          |0        |0600-0659   |1             |1             |27                |149            |Alaska Airlines Inc.  |13056                |20315                |717                          |1903352                 |2884187                 |3.233146156611231E-5   |1.7460144972655646E-4|3        |McCarran International|36.08   |-115.152 |NONE            |0.0 |0.0 |0.0 |65.0|2.91|\n",
            "|1    |7          |0        |1200-1259   |1             |1             |26                |119            |Alaska Airlines Inc.  |13056                |20315                |717                          |1903352                 |2884187                 |3.233146156611231E-5   |1.7460144972655646E-4|12       |McCarran International|36.08   |-115.152 |NONE            |0.0 |0.0 |0.0 |65.0|2.91|\n",
            "|1    |7          |0        |0600-0659   |2             |1             |27                |146            |Alaska Airlines Inc.  |13056                |20315                |717                          |1903352                 |2884187                 |3.233146156611231E-5   |1.7460144972655646E-4|7        |McCarran International|36.08   |-115.152 |NONE            |0.0 |0.0 |0.0 |65.0|2.91|\n",
            "|1    |7          |0        |0600-0659   |4             |1             |27                |181            |Alaska Airlines Inc.  |13056                |20315                |717                          |1903352                 |2884187                 |3.233146156611231E-5   |1.7460144972655646E-4|2        |McCarran International|36.08   |-115.152 |NONE            |0.0 |0.0 |0.0 |65.0|2.91|\n",
            "|1    |7          |1        |0700-0759   |4             |1             |29                |181            |Alaska Airlines Inc.  |13056                |20315                |717                          |1903352                 |2884187                 |3.233146156611231E-5   |1.7460144972655646E-4|4        |McCarran International|36.08   |-115.152 |NONE            |0.0 |0.0 |0.0 |65.0|2.91|\n",
            "|1    |7          |0        |0800-0859   |4             |1             |25                |181            |Alaska Airlines Inc.  |13056                |20315                |717                          |1903352                 |2884187                 |3.233146156611231E-5   |1.7460144972655646E-4|4        |McCarran International|36.08   |-115.152 |NONE            |0.0 |0.0 |0.0 |65.0|2.91|\n",
            "|1    |7          |0        |0001-0559   |11            |1             |10                |294            |Hawaiian Airlines Inc.|13056                |6791                 |80                           |1903352                 |905990                  |1.2049421761126928E-4  |1.9784966571132842E-4|6        |McCarran International|36.08   |-115.152 |NONE            |0.0 |0.0 |0.0 |65.0|2.91|\n",
            "|1    |7          |0        |0900-0959   |11            |1             |28                |294            |Hawaiian Airlines Inc.|13056                |6791                 |80                           |1903352                 |905990                  |1.2049421761126928E-4  |1.9784966571132842E-4|5        |McCarran International|36.08   |-115.152 |NONE            |0.0 |0.0 |0.0 |65.0|2.91|\n",
            "|1    |7          |0        |0700-0759   |1             |1             |29                |181            |American Airlines Inc.|13056                |75506                |1174                         |1903352                 |11744595                |9.82082928995461E-5    |1.7728721959309724E-4|5        |McCarran International|36.08   |-115.152 |NONE            |0.0 |0.0 |0.0 |65.0|2.91|\n",
            "+-----+-----------+---------+------------+--------------+--------------+------------------+---------------+----------------------+---------------------+---------------------+-----------------------------+------------------------+------------------------+-----------------------+---------------------+---------+----------------------+--------+---------+----------------+----+----+----+----+----+\n",
            "only showing top 20 rows\n",
            "\n",
            "root\n",
            " |-- MONTH: integer (nullable = true)\n",
            " |-- DAY_OF_WEEK: integer (nullable = true)\n",
            " |-- DEP_DEL15: integer (nullable = true)\n",
            " |-- DEP_TIME_BLK: string (nullable = true)\n",
            " |-- DISTANCE_GROUP: integer (nullable = true)\n",
            " |-- SEGMENT_NUMBER: integer (nullable = true)\n",
            " |-- CONCURRENT_FLIGHTS: integer (nullable = true)\n",
            " |-- NUMBER_OF_SEATS: integer (nullable = true)\n",
            " |-- CARRIER_NAME: string (nullable = true)\n",
            " |-- AIRPORT_FLIGHTS_MONTH: integer (nullable = true)\n",
            " |-- AIRLINE_FLIGHTS_MONTH: integer (nullable = true)\n",
            " |-- AIRLINE_AIRPORT_FLIGHTS_MONTH: integer (nullable = true)\n",
            " |-- AVG_MONTHLY_PASS_AIRPORT: integer (nullable = true)\n",
            " |-- AVG_MONTHLY_PASS_AIRLINE: integer (nullable = true)\n",
            " |-- FLT_ATTENDANTS_PER_PASS: double (nullable = true)\n",
            " |-- GROUND_SERV_PER_PASS: double (nullable = true)\n",
            " |-- PLANE_AGE: integer (nullable = true)\n",
            " |-- DEPARTING_AIRPORT: string (nullable = true)\n",
            " |-- LATITUDE: double (nullable = true)\n",
            " |-- LONGITUDE: double (nullable = true)\n",
            " |-- PREVIOUS_AIRPORT: string (nullable = true)\n",
            " |-- PRCP: double (nullable = true)\n",
            " |-- SNOW: double (nullable = true)\n",
            " |-- SNWD: double (nullable = true)\n",
            " |-- TMAX: double (nullable = true)\n",
            " |-- AWND: double (nullable = true)\n",
            "\n",
            "59586\n",
            "26\n"
          ]
        }
      ]
    },
    {
      "cell_type": "code",
      "source": [
        "df.rdd.getNumPartitions()"
      ],
      "metadata": {
        "colab": {
          "base_uri": "https://localhost:8080/"
        },
        "id": "fs_8lhAC-8oN",
        "outputId": "7397a840-2fbc-4aa6-cf1b-579f890660ec"
      },
      "execution_count": 5,
      "outputs": [
        {
          "output_type": "execute_result",
          "data": {
            "text/plain": [
              "2"
            ]
          },
          "metadata": {},
          "execution_count": 5
        }
      ]
    },
    {
      "cell_type": "code",
      "source": [
        "df = df.repartition(12)\n",
        "df.rdd.getNumPartitions()"
      ],
      "metadata": {
        "colab": {
          "base_uri": "https://localhost:8080/"
        },
        "id": "W0oU4VuRABK1",
        "outputId": "4e919030-4f03-4366-d5fe-ab0881d8442e"
      },
      "execution_count": 6,
      "outputs": [
        {
          "output_type": "execute_result",
          "data": {
            "text/plain": [
              "12"
            ]
          },
          "metadata": {},
          "execution_count": 6
        }
      ]
    },
    {
      "cell_type": "code",
      "source": [
        "from pyspark.sql.functions import col, isnan, when, count\n",
        "\n",
        "# Check for null or NaN values in each column\n",
        "df.select([count(when(col(c).isNull() | isnan(col(c)), c)).alias(c) for c in df.columns]).show()\n"
      ],
      "metadata": {
        "id": "myqmvOecb2tH",
        "colab": {
          "base_uri": "https://localhost:8080/"
        },
        "outputId": "acc3fe5c-9a05-4e21-f864-e9eb8f95a164"
      },
      "execution_count": 7,
      "outputs": [
        {
          "output_type": "stream",
          "name": "stdout",
          "text": [
            "+-----+-----------+---------+------------+--------------+--------------+------------------+---------------+------------+---------------------+---------------------+-----------------------------+------------------------+------------------------+-----------------------+--------------------+---------+-----------------+--------+---------+----------------+----+----+----+----+----+\n",
            "|MONTH|DAY_OF_WEEK|DEP_DEL15|DEP_TIME_BLK|DISTANCE_GROUP|SEGMENT_NUMBER|CONCURRENT_FLIGHTS|NUMBER_OF_SEATS|CARRIER_NAME|AIRPORT_FLIGHTS_MONTH|AIRLINE_FLIGHTS_MONTH|AIRLINE_AIRPORT_FLIGHTS_MONTH|AVG_MONTHLY_PASS_AIRPORT|AVG_MONTHLY_PASS_AIRLINE|FLT_ATTENDANTS_PER_PASS|GROUND_SERV_PER_PASS|PLANE_AGE|DEPARTING_AIRPORT|LATITUDE|LONGITUDE|PREVIOUS_AIRPORT|PRCP|SNOW|SNWD|TMAX|AWND|\n",
            "+-----+-----------+---------+------------+--------------+--------------+------------------+---------------+------------+---------------------+---------------------+-----------------------------+------------------------+------------------------+-----------------------+--------------------+---------+-----------------+--------+---------+----------------+----+----+----+----+----+\n",
            "|    0|          0|        0|           0|             0|             0|                 0|              0|           0|                    0|                    0|                            0|                       0|                       0|                      0|                   0|        0|                0|       0|        0|               0|   1|   1|   1|   1|   1|\n",
            "+-----+-----------+---------+------------+--------------+--------------+------------------+---------------+------------+---------------------+---------------------+-----------------------------+------------------------+------------------------+-----------------------+--------------------+---------+-----------------+--------+---------+----------------+----+----+----+----+----+\n",
            "\n"
          ]
        }
      ]
    },
    {
      "cell_type": "code",
      "source": [
        "#Missing values are negligible so we can drop that values.\n",
        "df = df.na.drop()\n"
      ],
      "metadata": {
        "id": "UDtN_iazq4ur"
      },
      "execution_count": 8,
      "outputs": []
    },
    {
      "cell_type": "code",
      "source": [
        "# We can check whether null values are droped or not\n",
        "df.select([count(when(col(c).isNull() | isnan(col(c)), c)).alias(c) for c in df.columns]).show()"
      ],
      "metadata": {
        "colab": {
          "base_uri": "https://localhost:8080/"
        },
        "id": "dBCtwc1GrcTr",
        "outputId": "5056e38c-1075-4829-d971-33f352590ed8"
      },
      "execution_count": 9,
      "outputs": [
        {
          "output_type": "stream",
          "name": "stdout",
          "text": [
            "+-----+-----------+---------+------------+--------------+--------------+------------------+---------------+------------+---------------------+---------------------+-----------------------------+------------------------+------------------------+-----------------------+--------------------+---------+-----------------+--------+---------+----------------+----+----+----+----+----+\n",
            "|MONTH|DAY_OF_WEEK|DEP_DEL15|DEP_TIME_BLK|DISTANCE_GROUP|SEGMENT_NUMBER|CONCURRENT_FLIGHTS|NUMBER_OF_SEATS|CARRIER_NAME|AIRPORT_FLIGHTS_MONTH|AIRLINE_FLIGHTS_MONTH|AIRLINE_AIRPORT_FLIGHTS_MONTH|AVG_MONTHLY_PASS_AIRPORT|AVG_MONTHLY_PASS_AIRLINE|FLT_ATTENDANTS_PER_PASS|GROUND_SERV_PER_PASS|PLANE_AGE|DEPARTING_AIRPORT|LATITUDE|LONGITUDE|PREVIOUS_AIRPORT|PRCP|SNOW|SNWD|TMAX|AWND|\n",
            "+-----+-----------+---------+------------+--------------+--------------+------------------+---------------+------------+---------------------+---------------------+-----------------------------+------------------------+------------------------+-----------------------+--------------------+---------+-----------------+--------+---------+----------------+----+----+----+----+----+\n",
            "|    0|          0|        0|           0|             0|             0|                 0|              0|           0|                    0|                    0|                            0|                       0|                       0|                      0|                   0|        0|                0|       0|        0|               0|   0|   0|   0|   0|   0|\n",
            "+-----+-----------+---------+------------+--------------+--------------+------------------+---------------+------------+---------------------+---------------------+-----------------------------+------------------------+------------------------+-----------------------+--------------------+---------+-----------------+--------+---------+----------------+----+----+----+----+----+\n",
            "\n"
          ]
        }
      ]
    },
    {
      "cell_type": "code",
      "source": [
        "df.show(truncate=False)"
      ],
      "metadata": {
        "colab": {
          "base_uri": "https://localhost:8080/"
        },
        "id": "OuA59RvYmVrY",
        "outputId": "7bcd40af-2e0b-4cb8-c4e8-e53dfd8b6948"
      },
      "execution_count": 10,
      "outputs": [
        {
          "output_type": "stream",
          "name": "stdout",
          "text": [
            "+-----+-----------+---------+------------+--------------+--------------+------------------+---------------+----------------------------+---------------------+---------------------+-----------------------------+------------------------+------------------------+-----------------------+---------------------+---------+---------------------------------------+--------+---------+------------------------------------+----+----+----+----+-----+\n",
            "|MONTH|DAY_OF_WEEK|DEP_DEL15|DEP_TIME_BLK|DISTANCE_GROUP|SEGMENT_NUMBER|CONCURRENT_FLIGHTS|NUMBER_OF_SEATS|CARRIER_NAME                |AIRPORT_FLIGHTS_MONTH|AIRLINE_FLIGHTS_MONTH|AIRLINE_AIRPORT_FLIGHTS_MONTH|AVG_MONTHLY_PASS_AIRPORT|AVG_MONTHLY_PASS_AIRLINE|FLT_ATTENDANTS_PER_PASS|GROUND_SERV_PER_PASS |PLANE_AGE|DEPARTING_AIRPORT                      |LATITUDE|LONGITUDE|PREVIOUS_AIRPORT                    |PRCP|SNOW|SNWD|TMAX|AWND |\n",
            "+-----+-----------+---------+------------+--------------+--------------+------------------+---------------+----------------------------+---------------------+---------------------+-----------------------------+------------------------+------------------------+-----------------------+---------------------+---------+---------------------------------------+--------+---------+------------------------------------+----+----+----+----+-----+\n",
            "|1    |5          |0        |0600-0659   |5             |1             |9                 |143            |Southwest Airlines Co.      |1294                 |107363               |430                          |161957                  |13382999                |6.178236301460919E-5   |9.889412309998219E-5 |18       |Theodore Francis Green State           |41.728  |-71.426  |NONE                                |0.0 |0.0 |0.0 |31.0|15.21|\n",
            "|1    |4          |0        |1000-1059   |1             |2             |15                |143            |Southwest Airlines Co.      |8569                 |107363               |2292                         |1391212                 |13382999                |6.178236301460919E-5   |9.889412309998219E-5 |12       |Fort Lauderdale-Hollywood International|26.074  |-80.152  |Newark Liberty International        |0.17|0.0 |0.0 |82.0|11.63|\n",
            "|1    |5          |0        |1700-1759   |2             |5             |44                |70             |American Eagle Airlines Inc.|23400                |23760                |4691                         |3103410                 |1204766                 |3.4840766560500434E-4  |1.0686715174900371E-4|15       |Chicago O'Hare International           |41.978  |-87.906  |Rochester Monroe County             |0.0 |0.0 |0.0 |30.0|4.92 |\n",
            "|1    |2          |0        |0800-0859   |6             |1             |22                |199            |Delta Air Lines Inc.        |10155                |73508                |2173                         |1960746                 |12460183                |1.441658849878598E-4   |1.486602009422039E-4 |23       |Seattle International                  |47.447  |-122.306 |NONE                                |0.0 |0.0 |0.0 |47.0|3.36 |\n",
            "|1    |2          |0        |2200-2259   |2             |4             |19                |110            |Delta Air Lines Inc.        |11784                |73508                |4190                         |1486066                 |12460183                |1.441658849878598E-4   |1.486602009422039E-4 |14       |Detroit Metro Wayne County             |42.217  |-83.344  |Austin - Bergstrom International    |0.0 |0.0 |0.0 |28.0|12.3 |\n",
            "|1    |2          |0        |1600-1659   |3             |4             |22                |157            |Delta Air Lines Inc.        |11784                |73508                |4190                         |1486066                 |12460183                |1.441658849878598E-4   |1.486602009422039E-4 |21       |Detroit Metro Wayne County             |42.217  |-83.344  |Atlanta Municipal                   |0.0 |0.0 |0.0 |28.0|12.3 |\n",
            "|1    |3          |0        |1400-1459   |3             |4             |7                 |143            |Southwest Airlines Co.      |3932                 |107363               |2463                         |525035                  |13382999                |6.178236301460919E-5   |9.889412309998219E-5 |13       |Sacramento International               |38.696  |-121.59  |Boise Air Terminal                  |0.0 |0.0 |0.0 |56.0|4.92 |\n",
            "|1    |3          |0        |2200-2259   |10            |2             |1                 |150            |JetBlue Airways             |1282                 |23463                |30                           |90611                   |3190369                 |1.600389254787507E-4   |1.2686617611396965E-4|14       |Palm Springs International             |33.827  |-116.505 |John F. Kennedy International       |0.0 |0.0 |0.0 |70.0|3.8  |\n",
            "|1    |5          |1        |1100-1159   |7             |3             |35                |76             |SkyWest Airlines Inc.       |13115                |62105                |3095                         |1908862                 |3472966                 |3.419267401443636E-5   |9.900278805864171E-5 |2        |San Francisco International            |37.619  |-122.375 |Minneapolis-St Paul International   |0.16|0.0 |0.0 |61.0|4.25 |\n",
            "|1    |2          |0        |0800-0859   |3             |2             |52                |157            |Delta Air Lines Inc.        |11784                |73508                |4190                         |1486066                 |12460183                |1.441658849878598E-4   |1.486602009422039E-4 |18       |Detroit Metro Wayne County             |42.217  |-83.344  |Newark Liberty International        |0.0 |0.0 |0.0 |28.0|12.3 |\n",
            "|1    |3          |1        |1800-1859   |4             |6             |27                |143            |Southwest Airlines Co.      |18286                |107363               |5414                         |2743323                 |13382999                |6.178236301460919E-5   |9.889412309998219E-5 |17       |Stapleton International                |39.774  |-104.88  |Phoenix Sky Harbor International    |0.0 |0.0 |0.0 |41.0|10.51|\n",
            "|1    |4          |0        |1100-1159   |3             |3             |35                |142            |United Air Lines Inc.       |14576                |46218                |661                          |1827202                 |8501631                 |2.5380424062159367E-4  |2.2898547349326266E-4|17       |Phoenix Sky Harbor International       |33.436  |-112.009 |Stapleton International             |0.0 |0.0 |0.0 |69.0|3.58 |\n",
            "|1    |2          |0        |1600-1659   |5             |4             |70                |180            |Delta Air Lines Inc.        |30842                |73508                |18809                        |4365661                 |12460183                |1.441658849878598E-4   |1.486602009422039E-4 |5        |Atlanta Municipal                      |33.641  |-84.427  |Tampa International                 |0.0 |0.0 |0.0 |46.0|10.74|\n",
            "|1    |2          |0        |1200-1259   |4             |2             |41                |173            |United Air Lines Inc.       |18286                |46218                |5037                         |2743323                 |8501631                 |2.5380424062159367E-4  |2.2898547349326266E-4|4        |Stapleton International                |39.774  |-104.88  |San Diego International Lindbergh Fl|0.0 |0.0 |0.0 |46.0|10.96|\n",
            "|1    |2          |0        |1600-1659   |2             |6             |70                |50             |Endeavor Air Inc.           |30842                |19857                |2974                         |4365661                 |1212846                 |0.0                    |9.351277617445623E-5 |17       |Atlanta Municipal                      |33.641  |-84.427  |Dannelly Field                      |0.0 |0.0 |0.0 |46.0|10.74|\n",
            "|1    |5          |0        |1400-1459   |4             |4             |25                |70             |SkyWest Airlines Inc.       |11956                |62105                |3519                         |1581456                 |3472966                 |3.419267401443636E-5   |9.900278805864171E-5 |1        |Minneapolis-St Paul International      |44.886  |-93.218  |Tulsa International                 |0.0 |0.0 |0.0 |66.0|9.17 |\n",
            "|1    |4          |0        |1600-1659   |4             |3             |6                 |154            |United Air Lines Inc.       |3383                 |46218                |519                          |429725                  |8501631                 |2.5380424062159367E-4  |2.2898547349326266E-4|11       |Orange County                          |33.676  |-117.867 |San Francisco International         |0.0 |0.0 |0.0 |73.0|2.24 |\n",
            "|1    |2          |0        |1200-1259   |3             |2             |32                |154            |United Air Lines Inc.       |13375                |46218                |635                          |1208249                 |8501631                 |2.5380424062159367E-4  |2.2898547349326266E-4|20       |LaGuardia                              |40.779  |-73.876  |Chicago O'Hare International        |0.0 |0.0 |0.0 |36.0|6.93 |\n",
            "|1    |4          |0        |0800-0859   |3             |2             |79                |143            |Southwest Airlines Co.      |30842                |107363               |3455                         |4365661                 |13382999                |6.178236301460919E-5   |9.889412309998219E-5 |9        |Atlanta Municipal                      |33.641  |-84.427  |Orlando International               |0.11|0.0 |0.0 |54.0|13.42|\n",
            "|1    |5          |0        |1500-1559   |2             |2             |27                |187            |American Airlines Inc.      |8899                 |75506                |3863                         |1297685                 |11744595                |9.82082928995461E-5    |1.7728721959309724E-4|18       |Philadelphia International             |39.868  |-75.249  |Dallas Fort Worth Regional          |0.0 |0.0 |0.0 |34.0|13.42|\n",
            "+-----+-----------+---------+------------+--------------+--------------+------------------+---------------+----------------------------+---------------------+---------------------+-----------------------------+------------------------+------------------------+-----------------------+---------------------+---------+---------------------------------------+--------+---------+------------------------------------+----+----+----+----+-----+\n",
            "only showing top 20 rows\n",
            "\n"
          ]
        }
      ]
    },
    {
      "cell_type": "markdown",
      "source": [
        "we have confirmed that missing values have droped.\n"
      ],
      "metadata": {
        "id": "wD1EFdUMsHys"
      }
    },
    {
      "cell_type": "code",
      "source": [
        "df.groupBy(\"DEP_DEL15\").count().show()"
      ],
      "metadata": {
        "colab": {
          "base_uri": "https://localhost:8080/"
        },
        "id": "dJqc__8vYaIt",
        "outputId": "07e409b2-1aa3-4b33-9fd9-8871fbb108c2"
      },
      "execution_count": 11,
      "outputs": [
        {
          "output_type": "stream",
          "name": "stdout",
          "text": [
            "+---------+-----+\n",
            "|DEP_DEL15|count|\n",
            "+---------+-----+\n",
            "|        1|11112|\n",
            "|        0|48473|\n",
            "+---------+-----+\n",
            "\n"
          ]
        }
      ]
    },
    {
      "cell_type": "code",
      "source": [
        "# Check the data types of the columns\n",
        "df.dtypes"
      ],
      "metadata": {
        "colab": {
          "base_uri": "https://localhost:8080/"
        },
        "id": "eDAyJnBB5lBN",
        "outputId": "60f898fb-f25d-411f-bcc8-9eb16175b1e3"
      },
      "execution_count": 12,
      "outputs": [
        {
          "output_type": "execute_result",
          "data": {
            "text/plain": [
              "[('MONTH', 'int'),\n",
              " ('DAY_OF_WEEK', 'int'),\n",
              " ('DEP_DEL15', 'int'),\n",
              " ('DEP_TIME_BLK', 'string'),\n",
              " ('DISTANCE_GROUP', 'int'),\n",
              " ('SEGMENT_NUMBER', 'int'),\n",
              " ('CONCURRENT_FLIGHTS', 'int'),\n",
              " ('NUMBER_OF_SEATS', 'int'),\n",
              " ('CARRIER_NAME', 'string'),\n",
              " ('AIRPORT_FLIGHTS_MONTH', 'int'),\n",
              " ('AIRLINE_FLIGHTS_MONTH', 'int'),\n",
              " ('AIRLINE_AIRPORT_FLIGHTS_MONTH', 'int'),\n",
              " ('AVG_MONTHLY_PASS_AIRPORT', 'int'),\n",
              " ('AVG_MONTHLY_PASS_AIRLINE', 'int'),\n",
              " ('FLT_ATTENDANTS_PER_PASS', 'double'),\n",
              " ('GROUND_SERV_PER_PASS', 'double'),\n",
              " ('PLANE_AGE', 'int'),\n",
              " ('DEPARTING_AIRPORT', 'string'),\n",
              " ('LATITUDE', 'double'),\n",
              " ('LONGITUDE', 'double'),\n",
              " ('PREVIOUS_AIRPORT', 'string'),\n",
              " ('PRCP', 'double'),\n",
              " ('SNOW', 'double'),\n",
              " ('SNWD', 'double'),\n",
              " ('TMAX', 'double'),\n",
              " ('AWND', 'double')]"
            ]
          },
          "metadata": {},
          "execution_count": 12
        }
      ]
    },
    {
      "cell_type": "code",
      "source": [
        "#Create a list of the columns that are string typed\n",
        "categoricalColumns = [item[0] for item in df.dtypes if item[1].startswith('string')]\n",
        "categoricalColumns"
      ],
      "metadata": {
        "colab": {
          "base_uri": "https://localhost:8080/"
        },
        "id": "ULt8DejV5vwd",
        "outputId": "b7a418e9-deef-4d4f-dc47-baba5a19eca0"
      },
      "execution_count": 13,
      "outputs": [
        {
          "output_type": "execute_result",
          "data": {
            "text/plain": [
              "['DEP_TIME_BLK', 'CARRIER_NAME', 'DEPARTING_AIRPORT', 'PREVIOUS_AIRPORT']"
            ]
          },
          "metadata": {},
          "execution_count": 13
        }
      ]
    },
    {
      "cell_type": "code",
      "source": [
        "#String Indexer\n",
        "from pyspark.ml.feature import StringIndexer\n",
        "\n",
        "indexer = StringIndexer(inputCols=categoricalColumns,\n",
        "                        outputCols=[x + \"_Index\" for x in categoricalColumns])\n",
        "df = indexer.fit(df).transform(df)\n",
        "df.show()"
      ],
      "metadata": {
        "colab": {
          "base_uri": "https://localhost:8080/"
        },
        "id": "QtwETiggEbPM",
        "outputId": "2f039f80-9af0-4e53-8369-2f84f2fdeb39"
      },
      "execution_count": 14,
      "outputs": [
        {
          "output_type": "stream",
          "name": "stdout",
          "text": [
            "+-----+-----------+---------+------------+--------------+--------------+------------------+---------------+--------------------+---------------------+---------------------+-----------------------------+------------------------+------------------------+-----------------------+--------------------+---------+--------------------+--------+---------+--------------------+----+----+----+----+-----+------------------+------------------+-----------------------+----------------------+\n",
            "|MONTH|DAY_OF_WEEK|DEP_DEL15|DEP_TIME_BLK|DISTANCE_GROUP|SEGMENT_NUMBER|CONCURRENT_FLIGHTS|NUMBER_OF_SEATS|        CARRIER_NAME|AIRPORT_FLIGHTS_MONTH|AIRLINE_FLIGHTS_MONTH|AIRLINE_AIRPORT_FLIGHTS_MONTH|AVG_MONTHLY_PASS_AIRPORT|AVG_MONTHLY_PASS_AIRLINE|FLT_ATTENDANTS_PER_PASS|GROUND_SERV_PER_PASS|PLANE_AGE|   DEPARTING_AIRPORT|LATITUDE|LONGITUDE|    PREVIOUS_AIRPORT|PRCP|SNOW|SNWD|TMAX| AWND|DEP_TIME_BLK_Index|CARRIER_NAME_Index|DEPARTING_AIRPORT_Index|PREVIOUS_AIRPORT_Index|\n",
            "+-----+-----------+---------+------------+--------------+--------------+------------------+---------------+--------------------+---------------------+---------------------+-----------------------------+------------------------+------------------------+-----------------------+--------------------+---------+--------------------+--------+---------+--------------------+----+----+----+----+-----+------------------+------------------+-----------------------+----------------------+\n",
            "|    1|          5|        0|   0600-0659|             5|             1|                 9|            143|Southwest Airline...|                 1294|               107363|                          430|                  161957|                13382999|   6.178236301460919E-5|9.889412309998219E-5|       18|Theodore Francis ...|  41.728|  -71.426|                NONE| 0.0| 0.0| 0.0|31.0|15.21|               8.0|               0.0|                   71.0|                   0.0|\n",
            "|    1|          4|        0|   1000-1059|             1|             2|                15|            143|Southwest Airline...|                 8569|               107363|                         2292|                 1391212|                13382999|   6.178236301460919E-5|9.889412309998219E-5|       12|Fort Lauderdale-H...|  26.074|  -80.152|Newark Liberty In...|0.17| 0.0| 0.0|82.0|11.63|               5.0|               0.0|                   17.0|                  19.0|\n",
            "|    1|          5|        0|   1700-1759|             2|             5|                44|             70|American Eagle Ai...|                23400|                23760|                         4691|                 3103410|                 1204766|   3.484076656050043...|1.068671517490037...|       15|Chicago O'Hare In...|  41.978|  -87.906|Rochester Monroe ...| 0.0| 0.0| 0.0|30.0| 4.92|               4.0|               8.0|                    1.0|                  75.0|\n",
            "|    1|          2|        0|   0800-0859|             6|             1|                22|            199|Delta Air Lines Inc.|                10155|                73508|                         2173|                 1960746|                12460183|   1.441658849878598E-4|1.486602009422039E-4|       23|Seattle Internati...|  47.447| -122.306|                NONE| 0.0| 0.0| 0.0|47.0| 3.36|               0.0|               1.0|                   20.0|                   0.0|\n",
            "|    1|          2|        0|   2200-2259|             2|             4|                19|            110|Delta Air Lines Inc.|                11784|                73508|                         4190|                 1486066|                12460183|   1.441658849878598E-4|1.486602009422039E-4|       14|Detroit Metro Way...|  42.217|  -83.344|Austin - Bergstro...| 0.0| 0.0| 0.0|28.0| 12.3|              16.0|               1.0|                    9.0|                  33.0|\n",
            "|    1|          2|        0|   1600-1659|             3|             4|                22|            157|Delta Air Lines Inc.|                11784|                73508|                         4190|                 1486066|                12460183|   1.441658849878598E-4|1.486602009422039E-4|       21|Detroit Metro Way...|  42.217|  -83.344|   Atlanta Municipal| 0.0| 0.0| 0.0|28.0| 12.3|              11.0|               1.0|                    9.0|                   1.0|\n",
            "|    1|          3|        0|   1400-1459|             3|             4|                 7|            143|Southwest Airline...|                 3932|               107363|                         2463|                  525035|                13382999|   6.178236301460919E-5|9.889412309998219E-5|       13|Sacramento Intern...|  38.696|  -121.59|  Boise Air Terminal| 0.0| 0.0| 0.0|56.0| 4.92|               9.0|               0.0|                   30.0|                  61.0|\n",
            "|    1|          3|        0|   2200-2259|            10|             2|                 1|            150|     JetBlue Airways|                 1282|                23463|                           30|                   90611|                 3190369|   1.600389254787507E-4|1.268661761139696...|       14|Palm Springs Inte...|  33.827| -116.505|John F. Kennedy I...| 0.0| 0.0| 0.0|70.0|  3.8|              16.0|               6.0|                   60.0|                  17.0|\n",
            "|    1|          5|        1|   1100-1159|             7|             3|                35|             76|SkyWest Airlines ...|                13115|                62105|                         3095|                 1908862|                 3472966|   3.419267401443636E-5|9.900278805864171E-5|        2|San Francisco Int...|  37.619| -122.375|Minneapolis-St Pa...|0.16| 0.0| 0.0|61.0| 4.25|               2.0|               3.0|                    6.0|                  13.0|\n",
            "|    1|          2|        0|   0800-0859|             3|             2|                52|            157|Delta Air Lines Inc.|                11784|                73508|                         4190|                 1486066|                12460183|   1.441658849878598E-4|1.486602009422039E-4|       18|Detroit Metro Way...|  42.217|  -83.344|Newark Liberty In...| 0.0| 0.0| 0.0|28.0| 12.3|               0.0|               1.0|                    9.0|                  19.0|\n",
            "|    1|          3|        1|   1800-1859|             4|             6|                27|            143|Southwest Airline...|                18286|               107363|                         5414|                 2743323|                13382999|   6.178236301460919E-5|9.889412309998219E-5|       17|Stapleton Interna...|  39.774|  -104.88|Phoenix Sky Harbo...| 0.0| 0.0| 0.0|41.0|10.51|              10.0|               0.0|                    4.0|                   8.0|\n",
            "|    1|          4|        0|   1100-1159|             3|             3|                35|            142|United Air Lines ...|                14576|                46218|                          661|                 1827202|                 8501631|   2.538042406215936...|2.289854734932626...|       17|Phoenix Sky Harbo...|  33.436| -112.009|Stapleton Interna...| 0.0| 0.0| 0.0|69.0| 3.58|               2.0|               4.0|                   10.0|                   5.0|\n",
            "|    1|          2|        0|   1600-1659|             5|             4|                70|            180|Delta Air Lines Inc.|                30842|                73508|                        18809|                 4365661|                12460183|   1.441658849878598E-4|1.486602009422039E-4|        5|   Atlanta Municipal|  33.641|  -84.427| Tampa International| 0.0| 0.0| 0.0|46.0|10.74|              11.0|               1.0|                    0.0|                  26.0|\n",
            "|    1|          2|        0|   1200-1259|             4|             2|                41|            173|United Air Lines ...|                18286|                46218|                         5037|                 2743323|                 8501631|   2.538042406215936...|2.289854734932626...|        4|Stapleton Interna...|  39.774|  -104.88|San Diego Interna...| 0.0| 0.0| 0.0|46.0|10.96|               7.0|               4.0|                    4.0|                  21.0|\n",
            "|    1|          2|        0|   1600-1659|             2|             6|                70|             50|   Endeavor Air Inc.|                30842|                19857|                         2974|                 4365661|                 1212846|                    0.0|9.351277617445623E-5|       17|   Atlanta Municipal|  33.641|  -84.427|      Dannelly Field| 0.0| 0.0| 0.0|46.0|10.74|              11.0|               7.0|                    0.0|                 140.0|\n",
            "|    1|          5|        0|   1400-1459|             4|             4|                25|             70|SkyWest Airlines ...|                11956|                62105|                         3519|                 1581456|                 3472966|   3.419267401443636E-5|9.900278805864171E-5|        1|Minneapolis-St Pa...|  44.886|  -93.218| Tulsa International| 0.0| 0.0| 0.0|66.0| 9.17|               9.0|               3.0|                    7.0|                  74.0|\n",
            "|    1|          4|        0|   1600-1659|             4|             3|                 6|            154|United Air Lines ...|                 3383|                46218|                          519|                  429725|                 8501631|   2.538042406215936...|2.289854734932626...|       11|       Orange County|  33.676| -117.867|San Francisco Int...| 0.0| 0.0| 0.0|73.0| 2.24|              11.0|               4.0|                   41.0|                  11.0|\n",
            "|    1|          2|        0|   1200-1259|             3|             2|                32|            154|United Air Lines ...|                13375|                46218|                          635|                 1208249|                 8501631|   2.538042406215936...|2.289854734932626...|       20|           LaGuardia|  40.779|  -73.876|Chicago O'Hare In...| 0.0| 0.0| 0.0|36.0| 6.93|               7.0|               4.0|                    8.0|                   2.0|\n",
            "|    1|          4|        0|   0800-0859|             3|             2|                79|            143|Southwest Airline...|                30842|               107363|                         3455|                 4365661|                13382999|   6.178236301460919E-5|9.889412309998219E-5|        9|   Atlanta Municipal|  33.641|  -84.427|Orlando Internati...|0.11| 0.0| 0.0|54.0|13.42|               0.0|               0.0|                    0.0|                  14.0|\n",
            "|    1|          5|        0|   1500-1559|             2|             2|                27|            187|American Airlines...|                 8899|                75506|                         3863|                 1297685|                11744595|    9.82082928995461E-5|1.772872195930972...|       18|Philadelphia Inte...|  39.868|  -75.249|Dallas Fort Worth...| 0.0| 0.0| 0.0|34.0|13.42|               3.0|               2.0|                   25.0|                   4.0|\n",
            "+-----+-----------+---------+------------+--------------+--------------+------------------+---------------+--------------------+---------------------+---------------------+-----------------------------+------------------------+------------------------+-----------------------+--------------------+---------+--------------------+--------+---------+--------------------+----+----+----+----+-----+------------------+------------------+-----------------------+----------------------+\n",
            "only showing top 20 rows\n",
            "\n"
          ]
        }
      ]
    },
    {
      "cell_type": "markdown",
      "source": [
        "Vector Assembler"
      ],
      "metadata": {
        "id": "0nCakWDeFj0-"
      }
    },
    {
      "cell_type": "code",
      "source": [
        "#import vector assembler\n",
        "import pyspark.ml.feature\n",
        "from pyspark.ml.feature import VectorAssembler\n",
        "\n",
        "assembler = VectorAssembler(inputCols=[\"MONTH\",\"DAY_OF_WEEK\",\"DISTANCE_GROUP\",\"SEGMENT_NUMBER\",\"CONCURRENT_FLIGHTS\",\"NUMBER_OF_SEATS\",\n",
        "                                       \"AIRPORT_FLIGHTS_MONTH\",\"AIRLINE_FLIGHTS_MONTH\",\"AIRLINE_AIRPORT_FLIGHTS_MONTH\",\"AVG_MONTHLY_PASS_AIRPORT\",\n",
        "                                       \"AVG_MONTHLY_PASS_AIRLINE\",\"FLT_ATTENDANTS_PER_PASS\",\"GROUND_SERV_PER_PASS\",\"PLANE_AGE\",\n",
        "                                       \"LATITUDE\",\"LONGITUDE\",\"PRCP\",\"SNOW\",\"SNWD\",\"TMAX\",\"AWND\",\"DEP_TIME_BLK_Index\",\"CARRIER_NAME_Index\",\n",
        "                                       \"DEPARTING_AIRPORT_Index\",\"PREVIOUS_AIRPORT_Index\"], outputCol=\"features\",handleInvalid='error')\n",
        "data = assembler.transform(df)\n",
        "data = data.select(\"features\", \"DEP_DEL15\")\n",
        "data.show(5, truncate=False)"
      ],
      "metadata": {
        "colab": {
          "base_uri": "https://localhost:8080/"
        },
        "id": "E0zN9m_lFpCW",
        "outputId": "0fec98ec-568b-463f-9a65-04a01ae1f04a"
      },
      "execution_count": 15,
      "outputs": [
        {
          "output_type": "stream",
          "name": "stdout",
          "text": [
            "+---------------------------------------------------------------------------------------------------------------------------------------------------------------------------------+---------+\n",
            "|features                                                                                                                                                                         |DEP_DEL15|\n",
            "+---------------------------------------------------------------------------------------------------------------------------------------------------------------------------------+---------+\n",
            "|[1.0,5.0,5.0,1.0,9.0,143.0,1294.0,107363.0,430.0,161957.0,1.3382999E7,6.178236301460919E-5,9.889412309998219E-5,18.0,41.728,-71.426,0.0,0.0,0.0,31.0,15.21,8.0,0.0,71.0,0.0]     |0        |\n",
            "|[1.0,4.0,1.0,2.0,15.0,143.0,8569.0,107363.0,2292.0,1391212.0,1.3382999E7,6.178236301460919E-5,9.889412309998219E-5,12.0,26.074,-80.152,0.17,0.0,0.0,82.0,11.63,5.0,0.0,17.0,19.0]|0        |\n",
            "|[1.0,5.0,2.0,5.0,44.0,70.0,23400.0,23760.0,4691.0,3103410.0,1204766.0,3.4840766560500434E-4,1.0686715174900371E-4,15.0,41.978,-87.906,0.0,0.0,0.0,30.0,4.92,4.0,8.0,1.0,75.0]    |0        |\n",
            "|[1.0,2.0,6.0,1.0,22.0,199.0,10155.0,73508.0,2173.0,1960746.0,1.2460183E7,1.441658849878598E-4,1.486602009422039E-4,23.0,47.447,-122.306,0.0,0.0,0.0,47.0,3.36,0.0,1.0,20.0,0.0]  |0        |\n",
            "|[1.0,2.0,2.0,4.0,19.0,110.0,11784.0,73508.0,4190.0,1486066.0,1.2460183E7,1.441658849878598E-4,1.486602009422039E-4,14.0,42.217,-83.344,0.0,0.0,0.0,28.0,12.3,16.0,1.0,9.0,33.0]  |0        |\n",
            "+---------------------------------------------------------------------------------------------------------------------------------------------------------------------------------+---------+\n",
            "only showing top 5 rows\n",
            "\n"
          ]
        }
      ]
    },
    {
      "cell_type": "markdown",
      "source": [
        "Standerd Scaler"
      ],
      "metadata": {
        "id": "QJW2fvggRVib"
      }
    },
    {
      "cell_type": "code",
      "source": [
        "#Import standerd scaler\n",
        "from pyspark.ml.feature import StandardScaler\n",
        "\n",
        "scaler = StandardScaler(inputCol=\"features\", outputCol=\"scaledFeatures\")\n",
        "scalerModel = scaler.fit(data)\n",
        "data = scalerModel.transform(data)\n",
        "data = data.select(\"scaledFeatures\", \"DEP_DEL15\")\n",
        "data.show(5, truncate=False)\n",
        "\n"
      ],
      "metadata": {
        "colab": {
          "base_uri": "https://localhost:8080/"
        },
        "id": "mVk6EsxjRZ1V",
        "outputId": "e6bcdbf5-e117-4329-be98-b33b9a50194c"
      },
      "execution_count": 16,
      "outputs": [
        {
          "output_type": "stream",
          "name": "stdout",
          "text": [
            "+--------------------------------------------------------------------------------------------------------------------------------------------------------------------------------------------------------------------------------------------------------------------------------------------------------------------------------------------------------------------------------------------------------------------------+---------+\n",
            "|scaledFeatures                                                                                                                                                                                                                                                                                                                                                                                                            |DEP_DEL15|\n",
            "+--------------------------------------------------------------------------------------------------------------------------------------------------------------------------------------------------------------------------------------------------------------------------------------------------------------------------------------------------------------------------------------------------------------------------+---------+\n",
            "|[0.0,3.225128739980642,2.1220341149833177,0.5907835868517235,0.43291203131282424,3.0329747457644523,0.15898397330899705,3.397689306990909,0.09876693238780036,0.14009929988327677,2.686232917433254,0.7241971576081774,2.182331718071678,2.6154846801845326,8.218791353512241,-4.348921946342948,0.0,0.0,0.0,2.019072482741822,3.710365551627753,1.6291997309659088,0.0,4.632976193098031,0.0]                            |0        |\n",
            "|[0.0,2.5801029919845133,0.42440682299666355,1.181567173703447,0.7215200521880404,3.0329747457644523,1.052808089091805,3.397689306990909,0.5264507186810196,1.203454171102288,2.686232917433254,0.7241971576081774,2.182331718071678,1.7436564534563552,5.135562829550378,-4.880222773825777,0.4244933201912723,0.0,0.0,5.340772373704174,2.8370513718231933,1.018249831853693,0.0,1.1093041589107961,0.39391053043949187] |0        |\n",
            "|[0.0,3.225128739980642,0.8488136459933271,2.9539179342586177,2.116458819751585,1.4846729524721094,2.874980661074599,0.751926622151989,1.077478325188771,2.684574104550961,0.24182039369534378,4.0839461103224775,2.3582753713893037,2.179570566820444,8.268031619961102,-5.352341340901397,0.0,0.0,0.0,1.9539411123307953,1.2001971409604566,0.8145998654829544,2.0787078812809066,0.06525318581828213,1.5549099885769417]|0        |\n",
            "|[0.0,1.2900514959922567,2.5464409379799813,0.5907835868517235,1.0582294098757925,4.22071310774214,1.2476678894535278,2.326288810654394,0.49911754436904693,1.6961239208489622,2.50100547208008,1.6898758648578682,3.280537422866731,3.3420082024580138,9.345211688796379,-7.446857552843789,0.0,0.0,0.0,3.0611744093182462,0.8196468279729947,0.0,0.2598384851601133,1.3050637163656424,0.0]                              |0        |\n",
            "|[0.0,1.2900514959922567,0.8488136459933271,2.363134347406894,0.9139253994381845,2.3330574967418864,1.4478107739360289,2.326288810654394,0.9624033644299617,1.285506684986395,2.50100547208008,1.6898758648578682,3.280537422866731,2.0342658623657477,8.315105314686212,-5.074574394422291,0.0,0.0,0.0,1.8236783715087423,3.0004928524011416,3.2583994619318175,0.2598384851601133,0.5872786723645391,0.6841603949738543] |0        |\n",
            "+--------------------------------------------------------------------------------------------------------------------------------------------------------------------------------------------------------------------------------------------------------------------------------------------------------------------------------------------------------------------------------------------------------------------------+---------+\n",
            "only showing top 5 rows\n",
            "\n"
          ]
        }
      ]
    },
    {
      "cell_type": "code",
      "source": [
        "#split data\n",
        "train_data, test_data = data.randomSplit([0.7, 0.3],seed = 42)\n",
        "train_data.show(5, truncate=False)\n",
        "test_data.show(5, truncate=False)"
      ],
      "metadata": {
        "colab": {
          "base_uri": "https://localhost:8080/"
        },
        "id": "6NDdsMbvWhf5",
        "outputId": "1a09f6a3-35f1-4110-94a4-91f9d53ca2b5"
      },
      "execution_count": 17,
      "outputs": [
        {
          "output_type": "stream",
          "name": "stdout",
          "text": [
            "+--------------------------------------------------------------------------------------------------------------------------------------------------------------------------------------------------------------------------------------------------------------------------------------------------------------------------------------------------------------------------------------------------------------+---------+\n",
            "|scaledFeatures                                                                                                                                                                                                                                                                                                                                                                                                |DEP_DEL15|\n",
            "+--------------------------------------------------------------------------------------------------------------------------------------------------------------------------------------------------------------------------------------------------------------------------------------------------------------------------------------------------------------------------------------------------------------+---------+\n",
            "|[0.0,0.6450257479961283,0.42440682299666355,0.5907835868517235,0.6734187153755044,3.0329747457644523,0.39500268484422374,3.397689306990909,0.3082447052661118,0.34770286920653687,2.686232917433254,0.7241971576081774,2.182331718071678,1.8889611579110515,5.816851156136814,-5.995491769585916,0.0,0.0,0.0,3.1263057797292726,1.0904230122140732,1.6291997309659088,0.0,1.8270892029118997,0.0]             |0        |\n",
            "|[0.0,0.6450257479961283,0.42440682299666355,0.5907835868517235,0.6734187153755044,3.6692631539667846,0.6004286534475027,1.4626491844537302,0.11737186616317671,0.5972107111759049,1.7064456960708878,2.975028805609091,5.053103724644874,2.6154846801845326,5.947042420627602,-5.946842977337604,0.0,0.0,0.0,3.321699890962352,1.5270801021163531,0.2036499663707386,1.0393539406404533,1.500823273820489,0.0]|0        |\n",
            "|[0.0,0.6450257479961283,0.42440682299666355,0.5907835868517235,0.9139253994381845,2.714830541663286,1.0933526881582418,2.3895190038808116,0.887294557707146,1.1225495654342201,2.3573727899794368,1.1511726502688953,3.9122600049307126,2.760789384639229,7.852443771132717,-4.5816933265248005,0.0,0.0,0.0,2.279597964385928,2.3467269300893476,2.2401496300781245,0.5196769703202266,1.6313296454570532,0.0]|0        |\n",
            "|[0.0,0.6450257479961283,0.42440682299666355,0.5907835868517235,0.9139253994381845,4.22071310774214,0.7400003641731756,2.326288810654394,0.11622341346099299,0.6337240539031295,2.50100547208008,1.6898758648578682,3.280537422866731,2.760789384639229,7.115612423991965,-5.2778155314997255,0.0,0.0,0.0,2.80064892767414,1.5270801021163531,1.6291997309659088,0.2598384851601133,1.2398105305473603,0.0]    |0        |\n",
            "|[0.0,0.6450257479961283,0.42440682299666355,0.5907835868517235,1.1063307466883285,1.6119306341125759,1.4478107739360289,1.9654209961594815,0.6562258740277805,1.285506684986395,0.6970930499454195,0.40079783491645454,2.1847296662863145,1.8889611579110515,8.315105314686212,-5.074574394422291,0.0,0.0,0.0,2.279597964385928,1.1465297891288915,0.2036499663707386,0.77951545548034,0.5872786723645391,0.0]|0        |\n",
            "+--------------------------------------------------------------------------------------------------------------------------------------------------------------------------------------------------------------------------------------------------------------------------------------------------------------------------------------------------------------------------------------------------------------+---------+\n",
            "only showing top 5 rows\n",
            "\n",
            "+---------------------------------------------------------------------------------------------------------------------------------------------------------------------------------------------------------------------------------------------------------------------------------------------------------------------------------------------------------------------------------------------------------------------------------+---------+\n",
            "|scaledFeatures                                                                                                                                                                                                                                                                                                                                                                                                                   |DEP_DEL15|\n",
            "+---------------------------------------------------------------------------------------------------------------------------------------------------------------------------------------------------------------------------------------------------------------------------------------------------------------------------------------------------------------------------------------------------------------------------------+---------+\n",
            "|[0.0,0.6450257479961283,0.42440682299666355,0.5907835868517235,0.7696213890005764,1.6119306341125759,1.4689431104191413,0.6284093828313151,0.2193544661170915,1.368022860365451,0.24344220970032596,0.0,2.063579625294136,1.4530470445469625,8.84079439929425,-5.67577361176878,0.0,0.0,0.0,3.6473567430174847,1.9637371920186333,0.2036499663707386,1.8188693961207933,0.4567723007279749,0.0]                                  |0        |\n",
            "|[0.0,0.6450257479961283,0.42440682299666355,0.5907835868517235,1.1063307466883285,2.714830541663286,2.7981916476911963,2.3895190038808116,2.7103483771535912,2.514987317653099,2.3573727899794368,1.1511726502688953,3.9122600049307126,2.906094089093925,6.478837298275297,-5.907875233859605,0.0,0.0,0.0,2.8657802980851663,1.0904230122140732,1.6291997309659088,0.5196769703202266,0.3262659290914106,0.0]                   |0        |\n",
            "|[0.0,0.6450257479961283,0.42440682299666355,0.5907835868517235,1.3468374307510087,3.266280495438641,1.263148554551622,1.4626491844537302,0.9794004644222808,1.4780066541197157,1.7064456960708878,2.975028805609091,5.053103724644874,1.5983517490016588,8.015527533611342,-4.516117920703232,0.0,0.0,0.0,2.2144665939749015,2.5638357624988615,2.036499663707386,1.0393539406404533,1.1745573447290782,0.0]                     |0        |\n",
            "|[0.0,0.6450257479961283,0.42440682299666355,0.5907835868517235,1.3949387675635447,3.8601496764274845,2.1777364195533018,0.47542902544567894,0.15550049587567638,2.405324453776868,0.5397032332945937,0.10753206040542973,2.7507194758248485,0.4359141133640888,6.685252495228922,-7.209519640223108,2.6967810929798475,0.0,0.0,3.712488113428511,2.073511320765016,1.6291997309659088,2.8582233367612466,0.13050637163656426,0.0]|0        |\n",
            "|[0.0,0.6450257479961283,0.42440682299666355,0.5907835868517235,3.1746882296273777,1.060480680337221,2.874980661074599,1.9654209961594815,0.912560517155188,2.684574104550961,0.6970930499454195,0.40079783491645454,2.1847296662863145,2.6154846801845326,8.268031619961102,-5.352341340901397,0.0,0.0,1.4086295569395917,1.7585470010977158,2.019843968933451,0.2036499663707386,0.77951545548034,0.06525318581828213,0.0]      |0        |\n",
            "+---------------------------------------------------------------------------------------------------------------------------------------------------------------------------------------------------------------------------------------------------------------------------------------------------------------------------------------------------------------------------------------------------------------------------------+---------+\n",
            "only showing top 5 rows\n",
            "\n"
          ]
        }
      ]
    },
    {
      "cell_type": "markdown",
      "metadata": {
        "id": "IRGHM3rOsKvU"
      },
      "source": [
        "---\n",
        "# **Task 2 - Model Selection and Implementation (25 marks)**\n",
        "---\n"
      ]
    },
    {
      "cell_type": "code",
      "metadata": {
        "id": "6oAJuyTBsRO-"
      },
      "source": [
        "##1st student name: Walgama Eshwarage Don Eshwara - 2782761\n",
        "# Using logistics regression\n",
        "from pyspark.ml.classification import LogisticRegression\n",
        "from pyspark.ml.evaluation import MulticlassClassificationEvaluator\n",
        "\n",
        "lr = LogisticRegression(featuresCol = 'scaledFeatures', labelCol = 'DEP_DEL15', regParam=0.01,threshold=0.5)\n",
        "\n",
        "lr_Model = lr.fit(train_data)\n",
        "\n",
        "lr_prediction_train = lr_Model.transform(train_data)\n",
        "lr_prediction_test = lr_Model.transform(test_data)"
      ],
      "execution_count": 18,
      "outputs": []
    },
    {
      "cell_type": "code",
      "source": [
        "lr_prediction_test.select(\"DEP_DEL15\",\"prediction\").show(20)"
      ],
      "metadata": {
        "colab": {
          "base_uri": "https://localhost:8080/"
        },
        "id": "P-o66w3Gf0bp",
        "outputId": "58d06df8-4904-4508-b461-da3d685c65a6"
      },
      "execution_count": 19,
      "outputs": [
        {
          "output_type": "stream",
          "name": "stdout",
          "text": [
            "+---------+----------+\n",
            "|DEP_DEL15|prediction|\n",
            "+---------+----------+\n",
            "|        0|       0.0|\n",
            "|        0|       0.0|\n",
            "|        0|       0.0|\n",
            "|        0|       0.0|\n",
            "|        0|       0.0|\n",
            "|        0|       0.0|\n",
            "|        0|       0.0|\n",
            "|        0|       0.0|\n",
            "|        0|       0.0|\n",
            "|        0|       0.0|\n",
            "|        0|       0.0|\n",
            "|        0|       0.0|\n",
            "|        0|       0.0|\n",
            "|        0|       0.0|\n",
            "|        0|       0.0|\n",
            "|        1|       0.0|\n",
            "|        0|       0.0|\n",
            "|        1|       0.0|\n",
            "|        0|       0.0|\n",
            "|        0|       0.0|\n",
            "+---------+----------+\n",
            "only showing top 20 rows\n",
            "\n"
          ]
        }
      ]
    },
    {
      "cell_type": "code",
      "source": [
        "##2nd student name:\n",
        "# add the code here\n"
      ],
      "metadata": {
        "id": "dNZlDHsuHbPH"
      },
      "execution_count": null,
      "outputs": []
    },
    {
      "cell_type": "markdown",
      "source": [
        "---\n",
        "# **Task 3 - Model Parameter Tuning (20 marks)**\n",
        "---\n"
      ],
      "metadata": {
        "id": "jBh-tqvEHmIa"
      }
    },
    {
      "cell_type": "code",
      "source": [
        "##1st student name:\n",
        "from pyspark.sql import functions as F\n",
        "\n",
        "# Check class distribution\n",
        "class_dist = df.groupBy('DEP_DEL15').agg(F.count('*')).collect()\n",
        "print(class_dist)\n"
      ],
      "metadata": {
        "id": "mhLRVi66Hmdo",
        "colab": {
          "base_uri": "https://localhost:8080/"
        },
        "outputId": "af4ca1df-c577-4e23-8d0e-4ce732e0dfc9"
      },
      "execution_count": 20,
      "outputs": [
        {
          "output_type": "stream",
          "name": "stdout",
          "text": [
            "[Row(DEP_DEL15=1, count(1)=11112), Row(DEP_DEL15=0, count(1)=48473)]\n"
          ]
        }
      ]
    },
    {
      "cell_type": "code",
      "source": [
        "lr = LogisticRegression(weightCol=\"weight\")\n",
        "balanced_df = df.withColumn(\"weight\", F.when(F.col(\"DEP_DEL15\") == 1, 10.0).otherwise(1.0))"
      ],
      "metadata": {
        "id": "qJD_dTwJ-mQK"
      },
      "execution_count": 21,
      "outputs": []
    },
    {
      "cell_type": "code",
      "source": [
        "from pyspark.ml import Pipeline\n",
        "from pyspark.ml.feature import VectorAssembler\n",
        "from pyspark.ml.classification import LogisticRegression\n",
        "from pyspark.ml.tuning import ParamGridBuilder, CrossValidator\n",
        "from pyspark.ml.evaluation import BinaryClassificationEvaluator\n",
        "\n",
        "# Assuming your target column is 'DEP_DEL15' (based on your error message)\n",
        "# and features are in 'scaledFeatures'\n",
        "\n",
        "# 1. Prepare the features and label columns\n",
        "assembler = VectorAssembler(\n",
        "    inputCols=[col for col in train_data.columns if col != \"DEP_DEL15\"],\n",
        "    outputCol=\"features\"\n",
        ")\n",
        "\n",
        "# 2. Create the Logistic Regression model\n",
        "lr = LogisticRegression(featuresCol=\"features\", labelCol=\"DEP_DEL15\")\n",
        "\n",
        "# 3. Create a pipeline\n",
        "pipeline = Pipeline(stages=[assembler, lr])\n",
        "\n",
        "# 4. Create parameter grid\n",
        "paramGrid = (ParamGridBuilder()\n",
        "             .addGrid(lr.regParam, [0.01, 0.1, 1.0])\n",
        "             .addGrid(lr.elasticNetParam, [0.0, 0.5, 1.0])\n",
        "             .addGrid(lr.maxIter, [10, 50, 100])\n",
        "             .build())\n",
        "\n",
        "# 5. Create evaluator (using areaUnderPR for imbalanced data)\n",
        "evaluator = BinaryClassificationEvaluator(\n",
        "    labelCol=\"DEP_DEL15\",\n",
        "    rawPredictionCol=\"rawPrediction\",\n",
        "    metricName=\"areaUnderPR\"\n",
        ")\n",
        "\n",
        "# 6. Create cross-validator\n",
        "cv = CrossValidator(\n",
        "    estimator=pipeline,\n",
        "    estimatorParamMaps=paramGrid,\n",
        "    evaluator=evaluator,\n",
        "    numFolds=5,\n",
        "    seed=42\n",
        ")\n",
        "\n",
        "# 7. Run cross-validation\n",
        "cvModel = cv.fit(train_data)\n",
        "\n",
        "# 8. Get best model\n",
        "best_model = cvModel.bestModel.stages[-1]  # Get the LR model from pipeline\n",
        "\n",
        "# 9. View best parameters\n",
        "print(\"Best parameters:\")\n",
        "print(f\"regParam: {best_model.getRegParam()}\")\n",
        "print(f\"elasticNetParam: {best_model.getElasticNetParam()}\")\n",
        "print(f\"maxIter: {best_model.getMaxIter()}\")"
      ],
      "metadata": {
        "colab": {
          "base_uri": "https://localhost:8080/"
        },
        "id": "-2b2gkkeAqdg",
        "outputId": "a49aa761-edda-4784-9418-e0f7d003040d"
      },
      "execution_count": 22,
      "outputs": [
        {
          "output_type": "stream",
          "name": "stdout",
          "text": [
            "Best parameters:\n",
            "regParam: 0.01\n",
            "elasticNetParam: 0.0\n",
            "maxIter: 10\n"
          ]
        }
      ]
    },
    {
      "cell_type": "code",
      "source": [
        "# Add more parameters to grid\n",
        "paramGrid = (ParamGridBuilder()\n",
        "            .addGrid(lr.regParam, [0.001, 0.01, 0.1, 1.0])\n",
        "            .addGrid(lr.elasticNetParam, [0.0, 0.25, 0.5, 0.75, 1.0])\n",
        "            .addGrid(lr.maxIter, [50, 100, 200])\n",
        "            .addGrid(lr.fitIntercept, [True, False])\n",
        "            .addGrid(lr.threshold, [0.3, 0.4, 0.5, 0.6])  # Adjust decision threshold\n",
        "            .build())"
      ],
      "metadata": {
        "id": "NZ6yeaWCMf7l"
      },
      "execution_count": 23,
      "outputs": []
    },
    {
      "cell_type": "code",
      "source": [
        "##2nd student name:\n",
        "# add the code here\n"
      ],
      "metadata": {
        "id": "hzZ20UCMHtnf"
      },
      "execution_count": null,
      "outputs": []
    },
    {
      "cell_type": "code",
      "source": [
        "##3rd student name:\n",
        "# add the code here\n"
      ],
      "metadata": {
        "id": "gDC6hj76HuDB"
      },
      "execution_count": null,
      "outputs": []
    },
    {
      "cell_type": "markdown",
      "source": [
        "---\n",
        "# **Task 4 - Model Evaluation and Accuracy Calculation (20 marks)**\n",
        "---"
      ],
      "metadata": {
        "id": "Np9gJPEIHwbG"
      }
    },
    {
      "cell_type": "code",
      "source": [
        "##1st student name: Walgama Eshwarage Don Eshwara - 2782761\n",
        "\n",
        "#confusion matrix\n",
        "\n",
        "cm = lr_prediction_test.groupBy('DEP_DEL15', 'prediction').count()\n",
        "cm.show(cm.count(), truncate=False)"
      ],
      "metadata": {
        "id": "FCVAx1VsHws-",
        "colab": {
          "base_uri": "https://localhost:8080/"
        },
        "outputId": "73b2f50f-ce19-4b88-bff7-bfee6a836b09"
      },
      "execution_count": 24,
      "outputs": [
        {
          "output_type": "stream",
          "name": "stdout",
          "text": [
            "+---------+----------+-----+\n",
            "|DEP_DEL15|prediction|count|\n",
            "+---------+----------+-----+\n",
            "|1        |0.0       |3187 |\n",
            "|0        |0.0       |14238|\n",
            "|1        |1.0       |147  |\n",
            "|0        |1.0       |91   |\n",
            "+---------+----------+-----+\n",
            "\n"
          ]
        }
      ]
    },
    {
      "cell_type": "code",
      "source": [
        "import pandas as pd\n",
        "from pyspark.sql.functions import col, when\n",
        "\n",
        "cm_pandas = cm.toPandas()\n",
        "cm_pandas.pivot(index = 'DEP_DEL15', columns = 'prediction', values = 'count')\n",
        "\n",
        "\n"
      ],
      "metadata": {
        "colab": {
          "base_uri": "https://localhost:8080/",
          "height": 143
        },
        "id": "kwbc5Fuwv_Sx",
        "outputId": "5ae5133d-4894-459d-fda1-732becb8e454"
      },
      "execution_count": 25,
      "outputs": [
        {
          "output_type": "execute_result",
          "data": {
            "text/plain": [
              "prediction    0.0  1.0\n",
              "DEP_DEL15             \n",
              "0           14238   91\n",
              "1            3187  147"
            ],
            "text/html": [
              "\n",
              "  <div id=\"df-80eb82bc-b656-41f0-930d-714454755ef5\" class=\"colab-df-container\">\n",
              "    <div>\n",
              "<style scoped>\n",
              "    .dataframe tbody tr th:only-of-type {\n",
              "        vertical-align: middle;\n",
              "    }\n",
              "\n",
              "    .dataframe tbody tr th {\n",
              "        vertical-align: top;\n",
              "    }\n",
              "\n",
              "    .dataframe thead th {\n",
              "        text-align: right;\n",
              "    }\n",
              "</style>\n",
              "<table border=\"1\" class=\"dataframe\">\n",
              "  <thead>\n",
              "    <tr style=\"text-align: right;\">\n",
              "      <th>prediction</th>\n",
              "      <th>0.0</th>\n",
              "      <th>1.0</th>\n",
              "    </tr>\n",
              "    <tr>\n",
              "      <th>DEP_DEL15</th>\n",
              "      <th></th>\n",
              "      <th></th>\n",
              "    </tr>\n",
              "  </thead>\n",
              "  <tbody>\n",
              "    <tr>\n",
              "      <th>0</th>\n",
              "      <td>14238</td>\n",
              "      <td>91</td>\n",
              "    </tr>\n",
              "    <tr>\n",
              "      <th>1</th>\n",
              "      <td>3187</td>\n",
              "      <td>147</td>\n",
              "    </tr>\n",
              "  </tbody>\n",
              "</table>\n",
              "</div>\n",
              "    <div class=\"colab-df-buttons\">\n",
              "\n",
              "  <div class=\"colab-df-container\">\n",
              "    <button class=\"colab-df-convert\" onclick=\"convertToInteractive('df-80eb82bc-b656-41f0-930d-714454755ef5')\"\n",
              "            title=\"Convert this dataframe to an interactive table.\"\n",
              "            style=\"display:none;\">\n",
              "\n",
              "  <svg xmlns=\"http://www.w3.org/2000/svg\" height=\"24px\" viewBox=\"0 -960 960 960\">\n",
              "    <path d=\"M120-120v-720h720v720H120Zm60-500h600v-160H180v160Zm220 220h160v-160H400v160Zm0 220h160v-160H400v160ZM180-400h160v-160H180v160Zm440 0h160v-160H620v160ZM180-180h160v-160H180v160Zm440 0h160v-160H620v160Z\"/>\n",
              "  </svg>\n",
              "    </button>\n",
              "\n",
              "  <style>\n",
              "    .colab-df-container {\n",
              "      display:flex;\n",
              "      gap: 12px;\n",
              "    }\n",
              "\n",
              "    .colab-df-convert {\n",
              "      background-color: #E8F0FE;\n",
              "      border: none;\n",
              "      border-radius: 50%;\n",
              "      cursor: pointer;\n",
              "      display: none;\n",
              "      fill: #1967D2;\n",
              "      height: 32px;\n",
              "      padding: 0 0 0 0;\n",
              "      width: 32px;\n",
              "    }\n",
              "\n",
              "    .colab-df-convert:hover {\n",
              "      background-color: #E2EBFA;\n",
              "      box-shadow: 0px 1px 2px rgba(60, 64, 67, 0.3), 0px 1px 3px 1px rgba(60, 64, 67, 0.15);\n",
              "      fill: #174EA6;\n",
              "    }\n",
              "\n",
              "    .colab-df-buttons div {\n",
              "      margin-bottom: 4px;\n",
              "    }\n",
              "\n",
              "    [theme=dark] .colab-df-convert {\n",
              "      background-color: #3B4455;\n",
              "      fill: #D2E3FC;\n",
              "    }\n",
              "\n",
              "    [theme=dark] .colab-df-convert:hover {\n",
              "      background-color: #434B5C;\n",
              "      box-shadow: 0px 1px 3px 1px rgba(0, 0, 0, 0.15);\n",
              "      filter: drop-shadow(0px 1px 2px rgba(0, 0, 0, 0.3));\n",
              "      fill: #FFFFFF;\n",
              "    }\n",
              "  </style>\n",
              "\n",
              "    <script>\n",
              "      const buttonEl =\n",
              "        document.querySelector('#df-80eb82bc-b656-41f0-930d-714454755ef5 button.colab-df-convert');\n",
              "      buttonEl.style.display =\n",
              "        google.colab.kernel.accessAllowed ? 'block' : 'none';\n",
              "\n",
              "      async function convertToInteractive(key) {\n",
              "        const element = document.querySelector('#df-80eb82bc-b656-41f0-930d-714454755ef5');\n",
              "        const dataTable =\n",
              "          await google.colab.kernel.invokeFunction('convertToInteractive',\n",
              "                                                    [key], {});\n",
              "        if (!dataTable) return;\n",
              "\n",
              "        const docLinkHtml = 'Like what you see? Visit the ' +\n",
              "          '<a target=\"_blank\" href=https://colab.research.google.com/notebooks/data_table.ipynb>data table notebook</a>'\n",
              "          + ' to learn more about interactive tables.';\n",
              "        element.innerHTML = '';\n",
              "        dataTable['output_type'] = 'display_data';\n",
              "        await google.colab.output.renderOutput(dataTable, element);\n",
              "        const docLink = document.createElement('div');\n",
              "        docLink.innerHTML = docLinkHtml;\n",
              "        element.appendChild(docLink);\n",
              "      }\n",
              "    </script>\n",
              "  </div>\n",
              "\n",
              "\n",
              "<div id=\"df-be107f1f-c1ce-4464-8c97-08b6e0cedabe\">\n",
              "  <button class=\"colab-df-quickchart\" onclick=\"quickchart('df-be107f1f-c1ce-4464-8c97-08b6e0cedabe')\"\n",
              "            title=\"Suggest charts\"\n",
              "            style=\"display:none;\">\n",
              "\n",
              "<svg xmlns=\"http://www.w3.org/2000/svg\" height=\"24px\"viewBox=\"0 0 24 24\"\n",
              "     width=\"24px\">\n",
              "    <g>\n",
              "        <path d=\"M19 3H5c-1.1 0-2 .9-2 2v14c0 1.1.9 2 2 2h14c1.1 0 2-.9 2-2V5c0-1.1-.9-2-2-2zM9 17H7v-7h2v7zm4 0h-2V7h2v10zm4 0h-2v-4h2v4z\"/>\n",
              "    </g>\n",
              "</svg>\n",
              "  </button>\n",
              "\n",
              "<style>\n",
              "  .colab-df-quickchart {\n",
              "      --bg-color: #E8F0FE;\n",
              "      --fill-color: #1967D2;\n",
              "      --hover-bg-color: #E2EBFA;\n",
              "      --hover-fill-color: #174EA6;\n",
              "      --disabled-fill-color: #AAA;\n",
              "      --disabled-bg-color: #DDD;\n",
              "  }\n",
              "\n",
              "  [theme=dark] .colab-df-quickchart {\n",
              "      --bg-color: #3B4455;\n",
              "      --fill-color: #D2E3FC;\n",
              "      --hover-bg-color: #434B5C;\n",
              "      --hover-fill-color: #FFFFFF;\n",
              "      --disabled-bg-color: #3B4455;\n",
              "      --disabled-fill-color: #666;\n",
              "  }\n",
              "\n",
              "  .colab-df-quickchart {\n",
              "    background-color: var(--bg-color);\n",
              "    border: none;\n",
              "    border-radius: 50%;\n",
              "    cursor: pointer;\n",
              "    display: none;\n",
              "    fill: var(--fill-color);\n",
              "    height: 32px;\n",
              "    padding: 0;\n",
              "    width: 32px;\n",
              "  }\n",
              "\n",
              "  .colab-df-quickchart:hover {\n",
              "    background-color: var(--hover-bg-color);\n",
              "    box-shadow: 0 1px 2px rgba(60, 64, 67, 0.3), 0 1px 3px 1px rgba(60, 64, 67, 0.15);\n",
              "    fill: var(--button-hover-fill-color);\n",
              "  }\n",
              "\n",
              "  .colab-df-quickchart-complete:disabled,\n",
              "  .colab-df-quickchart-complete:disabled:hover {\n",
              "    background-color: var(--disabled-bg-color);\n",
              "    fill: var(--disabled-fill-color);\n",
              "    box-shadow: none;\n",
              "  }\n",
              "\n",
              "  .colab-df-spinner {\n",
              "    border: 2px solid var(--fill-color);\n",
              "    border-color: transparent;\n",
              "    border-bottom-color: var(--fill-color);\n",
              "    animation:\n",
              "      spin 1s steps(1) infinite;\n",
              "  }\n",
              "\n",
              "  @keyframes spin {\n",
              "    0% {\n",
              "      border-color: transparent;\n",
              "      border-bottom-color: var(--fill-color);\n",
              "      border-left-color: var(--fill-color);\n",
              "    }\n",
              "    20% {\n",
              "      border-color: transparent;\n",
              "      border-left-color: var(--fill-color);\n",
              "      border-top-color: var(--fill-color);\n",
              "    }\n",
              "    30% {\n",
              "      border-color: transparent;\n",
              "      border-left-color: var(--fill-color);\n",
              "      border-top-color: var(--fill-color);\n",
              "      border-right-color: var(--fill-color);\n",
              "    }\n",
              "    40% {\n",
              "      border-color: transparent;\n",
              "      border-right-color: var(--fill-color);\n",
              "      border-top-color: var(--fill-color);\n",
              "    }\n",
              "    60% {\n",
              "      border-color: transparent;\n",
              "      border-right-color: var(--fill-color);\n",
              "    }\n",
              "    80% {\n",
              "      border-color: transparent;\n",
              "      border-right-color: var(--fill-color);\n",
              "      border-bottom-color: var(--fill-color);\n",
              "    }\n",
              "    90% {\n",
              "      border-color: transparent;\n",
              "      border-bottom-color: var(--fill-color);\n",
              "    }\n",
              "  }\n",
              "</style>\n",
              "\n",
              "  <script>\n",
              "    async function quickchart(key) {\n",
              "      const quickchartButtonEl =\n",
              "        document.querySelector('#' + key + ' button');\n",
              "      quickchartButtonEl.disabled = true;  // To prevent multiple clicks.\n",
              "      quickchartButtonEl.classList.add('colab-df-spinner');\n",
              "      try {\n",
              "        const charts = await google.colab.kernel.invokeFunction(\n",
              "            'suggestCharts', [key], {});\n",
              "      } catch (error) {\n",
              "        console.error('Error during call to suggestCharts:', error);\n",
              "      }\n",
              "      quickchartButtonEl.classList.remove('colab-df-spinner');\n",
              "      quickchartButtonEl.classList.add('colab-df-quickchart-complete');\n",
              "    }\n",
              "    (() => {\n",
              "      let quickchartButtonEl =\n",
              "        document.querySelector('#df-be107f1f-c1ce-4464-8c97-08b6e0cedabe button');\n",
              "      quickchartButtonEl.style.display =\n",
              "        google.colab.kernel.accessAllowed ? 'block' : 'none';\n",
              "    })();\n",
              "  </script>\n",
              "</div>\n",
              "\n",
              "    </div>\n",
              "  </div>\n"
            ],
            "application/vnd.google.colaboratory.intrinsic+json": {
              "type": "dataframe",
              "summary": "{\n  \"name\": \"cm_pandas\",\n  \"rows\": 2,\n  \"fields\": [\n    {\n      \"column\": \"DEP_DEL15\",\n      \"properties\": {\n        \"dtype\": \"int32\",\n        \"num_unique_values\": 2,\n        \"samples\": [\n          1,\n          0\n        ],\n        \"semantic_type\": \"\",\n        \"description\": \"\"\n      }\n    },\n    {\n      \"column\": 0.0,\n      \"properties\": {\n        \"dtype\": \"number\",\n        \"std\": 7814,\n        \"min\": 3187,\n        \"max\": 14238,\n        \"num_unique_values\": 2,\n        \"samples\": [\n          3187,\n          14238\n        ],\n        \"semantic_type\": \"\",\n        \"description\": \"\"\n      }\n    },\n    {\n      \"column\": 1.0,\n      \"properties\": {\n        \"dtype\": \"number\",\n        \"std\": 39,\n        \"min\": 91,\n        \"max\": 147,\n        \"num_unique_values\": 2,\n        \"samples\": [\n          147,\n          91\n        ],\n        \"semantic_type\": \"\",\n        \"description\": \"\"\n      }\n    }\n  ]\n}"
            }
          },
          "metadata": {},
          "execution_count": 25
        }
      ]
    },
    {
      "cell_type": "code",
      "source": [
        "#\n",
        "tp = lr_prediction_test[(lr_prediction_test.DEP_DEL15 == 1) & (lr_prediction_test.prediction == 1)].count()\n",
        "fp = lr_prediction_test[(lr_prediction_test.DEP_DEL15 == 0) & (lr_prediction_test.prediction == 1)].count()\n",
        "fn = lr_prediction_test[(lr_prediction_test.DEP_DEL15 == 1) & (lr_prediction_test.prediction == 0)].count()\n",
        "tn = lr_prediction_test[(lr_prediction_test.DEP_DEL15 == 0) & (lr_prediction_test.prediction == 0)].count()"
      ],
      "metadata": {
        "id": "b95LTpdf2I7w"
      },
      "execution_count": 26,
      "outputs": []
    },
    {
      "cell_type": "code",
      "source": [
        "\n",
        "accuracy = (tp + tn) / (tp + fp + fn + tn)\n",
        "precision = tp / (tp + fp)\n",
        "recall = tp / (tp + fn)\n",
        "f1 = 2 * (precision * recall) / (precision + recall)\n",
        "\n",
        "print('accuracy: ', round(accuracy, 4) * 100)\n",
        "print('precision: ', round(precision, 4) * 100)\n",
        "print('recall: ', round(recall, 4) * 100)\n",
        "print('f1 score: ', round(f1, 4) * 100)\n",
        "\n"
      ],
      "metadata": {
        "colab": {
          "base_uri": "https://localhost:8080/"
        },
        "id": "bLCBOwW73EVi",
        "outputId": "0a481b79-a2fe-4cfe-c930-feddb46d5f9a"
      },
      "execution_count": null,
      "outputs": [
        {
          "output_type": "stream",
          "name": "stdout",
          "text": [
            "accuracy:  81.44\n",
            "precision:  61.760000000000005\n",
            "recall:  4.41\n",
            "f1 score:  8.23\n"
          ]
        }
      ]
    },
    {
      "cell_type": "code",
      "source": [
        "##2nd student name:\n",
        "# add the code here\n"
      ],
      "metadata": {
        "id": "HLkmLxTdH8F7"
      },
      "execution_count": null,
      "outputs": []
    },
    {
      "cell_type": "code",
      "source": [
        "##3rd student name:\n",
        "# add the code here\n"
      ],
      "metadata": {
        "id": "g2t1raIYH8V3"
      },
      "execution_count": null,
      "outputs": []
    },
    {
      "cell_type": "markdown",
      "source": [
        "---\n",
        "# **Task 5 - Results Visualization or Printing (5 marks)**\n",
        "---"
      ],
      "metadata": {
        "id": "dsERZv2WIB1H"
      }
    },
    {
      "cell_type": "code",
      "source": [
        "##1st student name:\n",
        "# add the code here\n"
      ],
      "metadata": {
        "id": "j04CcL30ILx_"
      },
      "execution_count": null,
      "outputs": []
    },
    {
      "cell_type": "code",
      "source": [
        "##2nd student name:\n",
        "# add the code here\n"
      ],
      "metadata": {
        "id": "hQDC_KW3IMFQ"
      },
      "execution_count": null,
      "outputs": []
    },
    {
      "cell_type": "code",
      "source": [
        "##3rd student name:\n",
        "# add the code here\n"
      ],
      "metadata": {
        "id": "r1wLeCkCIMiE"
      },
      "execution_count": null,
      "outputs": []
    },
    {
      "cell_type": "markdown",
      "source": [
        "---\n",
        "# **Task 6 - LSEP Considerations (5 marks)**\n",
        "---"
      ],
      "metadata": {
        "id": "rIGDXqDdIQ4U"
      }
    },
    {
      "cell_type": "markdown",
      "source": [
        "# Student 1: **Type the chosen issue**\n",
        "\n",
        "add contribution here ..."
      ],
      "metadata": {
        "id": "vuCxxQnYI_FP"
      }
    },
    {
      "cell_type": "markdown",
      "source": [
        "# Student 2: **Type the chosen issue**\n",
        "\n",
        "add contribution here ..."
      ],
      "metadata": {
        "id": "AgLfrAGfJQxF"
      }
    },
    {
      "cell_type": "markdown",
      "source": [
        "# Student 3: **Type the chosen issue**\n",
        "\n",
        "add contribution here ..."
      ],
      "metadata": {
        "id": "w0Vf5UwdJRH9"
      }
    },
    {
      "cell_type": "markdown",
      "metadata": {
        "id": "mIM6uLApSxi2"
      },
      "source": [
        "---\n",
        "\n",
        "# **Task 7 - Convert ipynb to HTML for Turnitin submission [5 marks]**\n",
        "\n",
        "---\n",
        "\n"
      ]
    },
    {
      "cell_type": "code",
      "metadata": {
        "id": "ZrQu11N_DCfZ",
        "colab": {
          "base_uri": "https://localhost:8080/"
        },
        "outputId": "7fbefa29-ff51-4768-d300-996c69375059"
      },
      "source": [
        "# install nbconvert (if facing the conversion error)\n",
        "!pip3 install nbconvert"
      ],
      "execution_count": 28,
      "outputs": [
        {
          "output_type": "stream",
          "name": "stdout",
          "text": [
            "Requirement already satisfied: nbconvert in /usr/local/lib/python3.11/dist-packages (7.16.6)\n",
            "Requirement already satisfied: beautifulsoup4 in /usr/local/lib/python3.11/dist-packages (from nbconvert) (4.13.3)\n",
            "Requirement already satisfied: bleach!=5.0.0 in /usr/local/lib/python3.11/dist-packages (from bleach[css]!=5.0.0->nbconvert) (6.2.0)\n",
            "Requirement already satisfied: defusedxml in /usr/local/lib/python3.11/dist-packages (from nbconvert) (0.7.1)\n",
            "Requirement already satisfied: jinja2>=3.0 in /usr/local/lib/python3.11/dist-packages (from nbconvert) (3.1.6)\n",
            "Requirement already satisfied: jupyter-core>=4.7 in /usr/local/lib/python3.11/dist-packages (from nbconvert) (5.7.2)\n",
            "Requirement already satisfied: jupyterlab-pygments in /usr/local/lib/python3.11/dist-packages (from nbconvert) (0.3.0)\n",
            "Requirement already satisfied: markupsafe>=2.0 in /usr/local/lib/python3.11/dist-packages (from nbconvert) (3.0.2)\n",
            "Requirement already satisfied: mistune<4,>=2.0.3 in /usr/local/lib/python3.11/dist-packages (from nbconvert) (3.1.3)\n",
            "Requirement already satisfied: nbclient>=0.5.0 in /usr/local/lib/python3.11/dist-packages (from nbconvert) (0.10.2)\n",
            "Requirement already satisfied: nbformat>=5.7 in /usr/local/lib/python3.11/dist-packages (from nbconvert) (5.10.4)\n",
            "Requirement already satisfied: packaging in /usr/local/lib/python3.11/dist-packages (from nbconvert) (24.2)\n",
            "Requirement already satisfied: pandocfilters>=1.4.1 in /usr/local/lib/python3.11/dist-packages (from nbconvert) (1.5.1)\n",
            "Requirement already satisfied: pygments>=2.4.1 in /usr/local/lib/python3.11/dist-packages (from nbconvert) (2.18.0)\n",
            "Requirement already satisfied: traitlets>=5.1 in /usr/local/lib/python3.11/dist-packages (from nbconvert) (5.7.1)\n",
            "Requirement already satisfied: webencodings in /usr/local/lib/python3.11/dist-packages (from bleach!=5.0.0->bleach[css]!=5.0.0->nbconvert) (0.5.1)\n",
            "Requirement already satisfied: tinycss2<1.5,>=1.1.0 in /usr/local/lib/python3.11/dist-packages (from bleach[css]!=5.0.0->nbconvert) (1.4.0)\n",
            "Requirement already satisfied: platformdirs>=2.5 in /usr/local/lib/python3.11/dist-packages (from jupyter-core>=4.7->nbconvert) (4.3.7)\n",
            "Requirement already satisfied: jupyter-client>=6.1.12 in /usr/local/lib/python3.11/dist-packages (from nbclient>=0.5.0->nbconvert) (6.1.12)\n",
            "Requirement already satisfied: fastjsonschema>=2.15 in /usr/local/lib/python3.11/dist-packages (from nbformat>=5.7->nbconvert) (2.21.1)\n",
            "Requirement already satisfied: jsonschema>=2.6 in /usr/local/lib/python3.11/dist-packages (from nbformat>=5.7->nbconvert) (4.23.0)\n",
            "Requirement already satisfied: soupsieve>1.2 in /usr/local/lib/python3.11/dist-packages (from beautifulsoup4->nbconvert) (2.6)\n",
            "Requirement already satisfied: typing-extensions>=4.0.0 in /usr/local/lib/python3.11/dist-packages (from beautifulsoup4->nbconvert) (4.13.0)\n",
            "Requirement already satisfied: attrs>=22.2.0 in /usr/local/lib/python3.11/dist-packages (from jsonschema>=2.6->nbformat>=5.7->nbconvert) (25.3.0)\n",
            "Requirement already satisfied: jsonschema-specifications>=2023.03.6 in /usr/local/lib/python3.11/dist-packages (from jsonschema>=2.6->nbformat>=5.7->nbconvert) (2024.10.1)\n",
            "Requirement already satisfied: referencing>=0.28.4 in /usr/local/lib/python3.11/dist-packages (from jsonschema>=2.6->nbformat>=5.7->nbconvert) (0.36.2)\n",
            "Requirement already satisfied: rpds-py>=0.7.1 in /usr/local/lib/python3.11/dist-packages (from jsonschema>=2.6->nbformat>=5.7->nbconvert) (0.24.0)\n",
            "Requirement already satisfied: pyzmq>=13 in /usr/local/lib/python3.11/dist-packages (from jupyter-client>=6.1.12->nbclient>=0.5.0->nbconvert) (24.0.1)\n",
            "Requirement already satisfied: python-dateutil>=2.1 in /usr/local/lib/python3.11/dist-packages (from jupyter-client>=6.1.12->nbclient>=0.5.0->nbconvert) (2.8.2)\n",
            "Requirement already satisfied: tornado>=4.1 in /usr/local/lib/python3.11/dist-packages (from jupyter-client>=6.1.12->nbclient>=0.5.0->nbconvert) (6.4.2)\n",
            "Requirement already satisfied: six>=1.5 in /usr/local/lib/python3.11/dist-packages (from python-dateutil>=2.1->jupyter-client>=6.1.12->nbclient>=0.5.0->nbconvert) (1.17.0)\n"
          ]
        }
      ]
    },
    {
      "cell_type": "code",
      "metadata": {
        "id": "ReZWnCYdDH66",
        "colab": {
          "base_uri": "https://localhost:8080/"
        },
        "outputId": "4dca57b9-3109-454c-e9ff-e7a99ff07884"
      },
      "source": [
        "# convert ipynb to html and submit this HTML file\n",
        "!jupyter nbconvert --to html Group_50_CRWK_CN7030.ipynb"
      ],
      "execution_count": 31,
      "outputs": [
        {
          "output_type": "stream",
          "name": "stdout",
          "text": [
            "[NbConvertApp] WARNING | pattern 'Group_50_CRWK_CN7030.ipynb' matched no files\n",
            "This application is used to convert notebook files (*.ipynb)\n",
            "        to various other formats.\n",
            "\n",
            "        WARNING: THE COMMANDLINE INTERFACE MAY CHANGE IN FUTURE RELEASES.\n",
            "\n",
            "Options\n",
            "=======\n",
            "The options below are convenience aliases to configurable class-options,\n",
            "as listed in the \"Equivalent to\" description-line of the aliases.\n",
            "To see all configurable class-options for some <cmd>, use:\n",
            "    <cmd> --help-all\n",
            "\n",
            "--debug\n",
            "    set log level to logging.DEBUG (maximize logging output)\n",
            "    Equivalent to: [--Application.log_level=10]\n",
            "--show-config\n",
            "    Show the application's configuration (human-readable format)\n",
            "    Equivalent to: [--Application.show_config=True]\n",
            "--show-config-json\n",
            "    Show the application's configuration (json format)\n",
            "    Equivalent to: [--Application.show_config_json=True]\n",
            "--generate-config\n",
            "    generate default config file\n",
            "    Equivalent to: [--JupyterApp.generate_config=True]\n",
            "-y\n",
            "    Answer yes to any questions instead of prompting.\n",
            "    Equivalent to: [--JupyterApp.answer_yes=True]\n",
            "--execute\n",
            "    Execute the notebook prior to export.\n",
            "    Equivalent to: [--ExecutePreprocessor.enabled=True]\n",
            "--allow-errors\n",
            "    Continue notebook execution even if one of the cells throws an error and include the error message in the cell output (the default behaviour is to abort conversion). This flag is only relevant if '--execute' was specified, too.\n",
            "    Equivalent to: [--ExecutePreprocessor.allow_errors=True]\n",
            "--stdin\n",
            "    read a single notebook file from stdin. Write the resulting notebook with default basename 'notebook.*'\n",
            "    Equivalent to: [--NbConvertApp.from_stdin=True]\n",
            "--stdout\n",
            "    Write notebook output to stdout instead of files.\n",
            "    Equivalent to: [--NbConvertApp.writer_class=StdoutWriter]\n",
            "--inplace\n",
            "    Run nbconvert in place, overwriting the existing notebook (only\n",
            "            relevant when converting to notebook format)\n",
            "    Equivalent to: [--NbConvertApp.use_output_suffix=False --NbConvertApp.export_format=notebook --FilesWriter.build_directory=]\n",
            "--clear-output\n",
            "    Clear output of current file and save in place,\n",
            "            overwriting the existing notebook.\n",
            "    Equivalent to: [--NbConvertApp.use_output_suffix=False --NbConvertApp.export_format=notebook --FilesWriter.build_directory= --ClearOutputPreprocessor.enabled=True]\n",
            "--coalesce-streams\n",
            "    Coalesce consecutive stdout and stderr outputs into one stream (within each cell).\n",
            "    Equivalent to: [--NbConvertApp.use_output_suffix=False --NbConvertApp.export_format=notebook --FilesWriter.build_directory= --CoalesceStreamsPreprocessor.enabled=True]\n",
            "--no-prompt\n",
            "    Exclude input and output prompts from converted document.\n",
            "    Equivalent to: [--TemplateExporter.exclude_input_prompt=True --TemplateExporter.exclude_output_prompt=True]\n",
            "--no-input\n",
            "    Exclude input cells and output prompts from converted document.\n",
            "            This mode is ideal for generating code-free reports.\n",
            "    Equivalent to: [--TemplateExporter.exclude_output_prompt=True --TemplateExporter.exclude_input=True --TemplateExporter.exclude_input_prompt=True]\n",
            "--allow-chromium-download\n",
            "    Whether to allow downloading chromium if no suitable version is found on the system.\n",
            "    Equivalent to: [--WebPDFExporter.allow_chromium_download=True]\n",
            "--disable-chromium-sandbox\n",
            "    Disable chromium security sandbox when converting to PDF..\n",
            "    Equivalent to: [--WebPDFExporter.disable_sandbox=True]\n",
            "--show-input\n",
            "    Shows code input. This flag is only useful for dejavu users.\n",
            "    Equivalent to: [--TemplateExporter.exclude_input=False]\n",
            "--embed-images\n",
            "    Embed the images as base64 dataurls in the output. This flag is only useful for the HTML/WebPDF/Slides exports.\n",
            "    Equivalent to: [--HTMLExporter.embed_images=True]\n",
            "--sanitize-html\n",
            "    Whether the HTML in Markdown cells and cell outputs should be sanitized..\n",
            "    Equivalent to: [--HTMLExporter.sanitize_html=True]\n",
            "--log-level=<Enum>\n",
            "    Set the log level by value or name.\n",
            "    Choices: any of [0, 10, 20, 30, 40, 50, 'DEBUG', 'INFO', 'WARN', 'ERROR', 'CRITICAL']\n",
            "    Default: 30\n",
            "    Equivalent to: [--Application.log_level]\n",
            "--config=<Unicode>\n",
            "    Full path of a config file.\n",
            "    Default: ''\n",
            "    Equivalent to: [--JupyterApp.config_file]\n",
            "--to=<Unicode>\n",
            "    The export format to be used, either one of the built-in formats\n",
            "            ['asciidoc', 'custom', 'html', 'latex', 'markdown', 'notebook', 'pdf', 'python', 'qtpdf', 'qtpng', 'rst', 'script', 'slides', 'webpdf']\n",
            "            or a dotted object name that represents the import path for an\n",
            "            ``Exporter`` class\n",
            "    Default: ''\n",
            "    Equivalent to: [--NbConvertApp.export_format]\n",
            "--template=<Unicode>\n",
            "    Name of the template to use\n",
            "    Default: ''\n",
            "    Equivalent to: [--TemplateExporter.template_name]\n",
            "--template-file=<Unicode>\n",
            "    Name of the template file to use\n",
            "    Default: None\n",
            "    Equivalent to: [--TemplateExporter.template_file]\n",
            "--theme=<Unicode>\n",
            "    Template specific theme(e.g. the name of a JupyterLab CSS theme distributed\n",
            "    as prebuilt extension for the lab template)\n",
            "    Default: 'light'\n",
            "    Equivalent to: [--HTMLExporter.theme]\n",
            "--sanitize_html=<Bool>\n",
            "    Whether the HTML in Markdown cells and cell outputs should be sanitized.This\n",
            "    should be set to True by nbviewer or similar tools.\n",
            "    Default: False\n",
            "    Equivalent to: [--HTMLExporter.sanitize_html]\n",
            "--writer=<DottedObjectName>\n",
            "    Writer class used to write the\n",
            "                                        results of the conversion\n",
            "    Default: 'FilesWriter'\n",
            "    Equivalent to: [--NbConvertApp.writer_class]\n",
            "--post=<DottedOrNone>\n",
            "    PostProcessor class used to write the\n",
            "                                        results of the conversion\n",
            "    Default: ''\n",
            "    Equivalent to: [--NbConvertApp.postprocessor_class]\n",
            "--output=<Unicode>\n",
            "    Overwrite base name use for output files.\n",
            "                Supports pattern replacements '{notebook_name}'.\n",
            "    Default: '{notebook_name}'\n",
            "    Equivalent to: [--NbConvertApp.output_base]\n",
            "--output-dir=<Unicode>\n",
            "    Directory to write output(s) to. Defaults\n",
            "                                  to output to the directory of each notebook. To recover\n",
            "                                  previous default behaviour (outputting to the current\n",
            "                                  working directory) use . as the flag value.\n",
            "    Default: ''\n",
            "    Equivalent to: [--FilesWriter.build_directory]\n",
            "--reveal-prefix=<Unicode>\n",
            "    The URL prefix for reveal.js (version 3.x).\n",
            "            This defaults to the reveal CDN, but can be any url pointing to a copy\n",
            "            of reveal.js.\n",
            "            For speaker notes to work, this must be a relative path to a local\n",
            "            copy of reveal.js: e.g., \"reveal.js\".\n",
            "            If a relative path is given, it must be a subdirectory of the\n",
            "            current directory (from which the server is run).\n",
            "            See the usage documentation\n",
            "            (https://nbconvert.readthedocs.io/en/latest/usage.html#reveal-js-html-slideshow)\n",
            "            for more details.\n",
            "    Default: ''\n",
            "    Equivalent to: [--SlidesExporter.reveal_url_prefix]\n",
            "--nbformat=<Enum>\n",
            "    The nbformat version to write.\n",
            "            Use this to downgrade notebooks.\n",
            "    Choices: any of [1, 2, 3, 4]\n",
            "    Default: 4\n",
            "    Equivalent to: [--NotebookExporter.nbformat_version]\n",
            "\n",
            "Examples\n",
            "--------\n",
            "\n",
            "    The simplest way to use nbconvert is\n",
            "\n",
            "            > jupyter nbconvert mynotebook.ipynb --to html\n",
            "\n",
            "            Options include ['asciidoc', 'custom', 'html', 'latex', 'markdown', 'notebook', 'pdf', 'python', 'qtpdf', 'qtpng', 'rst', 'script', 'slides', 'webpdf'].\n",
            "\n",
            "            > jupyter nbconvert --to latex mynotebook.ipynb\n",
            "\n",
            "            Both HTML and LaTeX support multiple output templates. LaTeX includes\n",
            "            'base', 'article' and 'report'.  HTML includes 'basic', 'lab' and\n",
            "            'classic'. You can specify the flavor of the format used.\n",
            "\n",
            "            > jupyter nbconvert --to html --template lab mynotebook.ipynb\n",
            "\n",
            "            You can also pipe the output to stdout, rather than a file\n",
            "\n",
            "            > jupyter nbconvert mynotebook.ipynb --stdout\n",
            "\n",
            "            PDF is generated via latex\n",
            "\n",
            "            > jupyter nbconvert mynotebook.ipynb --to pdf\n",
            "\n",
            "            You can get (and serve) a Reveal.js-powered slideshow\n",
            "\n",
            "            > jupyter nbconvert myslides.ipynb --to slides --post serve\n",
            "\n",
            "            Multiple notebooks can be given at the command line in a couple of\n",
            "            different ways:\n",
            "\n",
            "            > jupyter nbconvert notebook*.ipynb\n",
            "            > jupyter nbconvert notebook1.ipynb notebook2.ipynb\n",
            "\n",
            "            or you can specify the notebooks list in a config file, containing::\n",
            "\n",
            "                c.NbConvertApp.notebooks = [\"my_notebook.ipynb\"]\n",
            "\n",
            "            > jupyter nbconvert --config mycfg.py\n",
            "\n",
            "To see all available configurables, use `--help-all`.\n",
            "\n"
          ]
        }
      ]
    }
  ]
}